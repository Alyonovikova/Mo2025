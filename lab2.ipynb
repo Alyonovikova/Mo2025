{
 "cells": [
  {
   "cell_type": "markdown",
   "id": "e209a5e8",
   "metadata": {},
   "source": [
    "# Экзаменационное проектное задание\n",
    "\n",
    "## Шкала оценивания\n",
    "\n",
    "- **Оценка 3-4:** Нужно построить модель машинного обучения с классификатором по заданию\n",
    "\n",
    "- **Оценка 5:** Нужно применить 2 дополнительных классификатора, сравнить и сделать выводы какой лучше"
   ]
  },
  {
   "cell_type": "markdown",
   "id": "5f672842",
   "metadata": {},
   "source": [
    "# Часть I. Подготовка набора данных: Отзывы об одежде"
   ]
  },
  {
   "cell_type": "markdown",
   "id": "845e725f",
   "metadata": {},
   "source": [
    "## Задание\n",
    "\n",
    "Вам предлагается выполнить подготовку набора данных\n",
    "\n",
    "Описание набора данных: Отзывы пользователей об одежде. Целевая переменная - тональность отзыва\n",
    "\n",
    "Ссылка на набор данных для использования в блокноте: https://raw.githubusercontent.com/yakushinav/mo2025/refs/heads/main/data/clothes_review03.csv"
   ]
  },
  {
   "cell_type": "markdown",
   "id": "33414c94",
   "metadata": {},
   "source": [
    "#### 1. Подключение библиотек"
   ]
  },
  {
   "cell_type": "code",
   "execution_count": null,
   "id": "b15574d1",
   "metadata": {},
   "outputs": [],
   "source": [
    "# Ваш код здесь"
   ]
  },
  {
   "cell_type": "markdown",
   "id": "046a0e81",
   "metadata": {},
   "source": [
    "#### 2. Чтение набора данных"
   ]
  },
  {
   "cell_type": "code",
   "execution_count": null,
   "id": "c7c56954",
   "metadata": {},
   "outputs": [],
   "source": [
    "# Ваш код здесь"
   ]
  },
  {
   "cell_type": "markdown",
   "id": "1903b973",
   "metadata": {},
   "source": [
    "#### 3. Первые 7 строк набора данных"
   ]
  },
  {
   "cell_type": "code",
   "execution_count": null,
   "id": "9514242d",
   "metadata": {},
   "outputs": [],
   "source": [
    "# Ваш код здесь"
   ]
  },
  {
   "cell_type": "markdown",
   "id": "91d2c84f",
   "metadata": {},
   "source": [
    "#### 4. Последние 5 строк набора данных"
   ]
  },
  {
   "cell_type": "code",
   "execution_count": null,
   "id": "5f45a386",
   "metadata": {},
   "outputs": [],
   "source": [
    "# Ваш код здесь"
   ]
  },
  {
   "cell_type": "markdown",
   "id": "2b4aef60",
   "metadata": {},
   "source": [
    "#### 5. Поля набора данных"
   ]
  },
  {
   "cell_type": "code",
   "execution_count": null,
   "id": "a11900ab",
   "metadata": {},
   "outputs": [],
   "source": [
    "# Ваш код здесь"
   ]
  },
  {
   "cell_type": "markdown",
   "id": "1576c17a",
   "metadata": {},
   "source": [
    "#### 6. Размер набора данных (количество полей и строк)"
   ]
  },
  {
   "cell_type": "code",
   "execution_count": null,
   "id": "4cdcd2ea",
   "metadata": {},
   "outputs": [],
   "source": [
    "# Ваш код здесь"
   ]
  },
  {
   "cell_type": "markdown",
   "id": "ebb0a667",
   "metadata": {},
   "source": [
    "#### 7. Опишите поля набора данных в формате: название поля, тип данных, назначение поля"
   ]
  },
  {
   "cell_type": "code",
   "execution_count": null,
   "id": "a18d3992",
   "metadata": {},
   "outputs": [],
   "source": [
    "# Ваш код здесь"
   ]
  },
  {
   "cell_type": "markdown",
   "id": "ea0f19f0",
   "metadata": {},
   "source": [
    "#### 8. Информация о наборе данных"
   ]
  },
  {
   "cell_type": "code",
   "execution_count": null,
   "id": "eaaa04cb",
   "metadata": {},
   "outputs": [],
   "source": [
    "# Ваш код здесь"
   ]
  },
  {
   "cell_type": "markdown",
   "id": "986f44d6",
   "metadata": {},
   "source": [
    "#### 9. Проверка наличия пропусков в данных"
   ]
  },
  {
   "cell_type": "code",
   "execution_count": null,
   "id": "69137c7b",
   "metadata": {},
   "outputs": [],
   "source": [
    "# Ваш код здесь"
   ]
  },
  {
   "cell_type": "markdown",
   "id": "c73bb424",
   "metadata": {},
   "source": [
    "#### 10. Если вы обнаружили пропуски в данных, то удалите их"
   ]
  },
  {
   "cell_type": "code",
   "execution_count": null,
   "id": "336ad0dd",
   "metadata": {},
   "outputs": [],
   "source": [
    "# Ваш код здесь"
   ]
  },
  {
   "cell_type": "markdown",
   "id": "58c7571c",
   "metadata": {},
   "source": [
    "#### 11. Проведите предобработку текстовых данных: удаление символов, лемматизация, стоп слова, перевод в нижний регистр"
   ]
  },
  {
   "cell_type": "code",
   "execution_count": null,
   "id": "bb4f7df9",
   "metadata": {},
   "outputs": [],
   "source": [
    "# Ваш код здесь"
   ]
  },
  {
   "cell_type": "markdown",
   "id": "634185ae",
   "metadata": {},
   "source": [
    "#### 12. Сделайте вывод о пригодности набора данных для построения модели машинного обучения"
   ]
  },
  {
   "cell_type": "code",
   "execution_count": null,
   "id": "c35e381c",
   "metadata": {},
   "outputs": [],
   "source": [
    "# Ваш ответ здесь"
   ]
  },
  {
   "cell_type": "markdown",
   "id": "314b2918",
   "metadata": {},
   "source": [
    "# Часть II. Построение модели машинного обучения для набора данных: Отзывы об одежде"
   ]
  },
  {
   "cell_type": "markdown",
   "id": "7601fb8f",
   "metadata": {},
   "source": [
    "## Задание\n",
    "\n",
    "Вам нужно решить задачу классификации с помощью алгоритма \n",
    "\n",
    "Логистическая регрессия LogisticRegression\n",
    "\n",
    "\n",
    "\n",
    "Целевая переменная, результат: **mark**"
   ]
  },
  {
   "cell_type": "markdown",
   "id": "41912d30",
   "metadata": {},
   "source": [
    "#### 13. Разделить выборку на признаки (Х) и результат (Y)"
   ]
  },
  {
   "cell_type": "code",
   "execution_count": null,
   "id": "31114912",
   "metadata": {},
   "outputs": [],
   "source": [
    "# Ваш код здесь"
   ]
  },
  {
   "cell_type": "markdown",
   "id": "3c7578cc",
   "metadata": {},
   "source": [
    "#### 14. Разделить на обучающую и тестовую выборки"
   ]
  },
  {
   "cell_type": "code",
   "execution_count": null,
   "id": "29c9d64c",
   "metadata": {},
   "outputs": [],
   "source": [
    "# Ваш код здесь"
   ]
  },
  {
   "cell_type": "markdown",
   "id": "4bf74084",
   "metadata": {},
   "source": [
    "#### 15. TF-IDF векторизация и мешок слов"
   ]
  },
  {
   "cell_type": "code",
   "execution_count": null,
   "id": "6e5db45b",
   "metadata": {},
   "outputs": [],
   "source": [
    "# Ваш код здесь"
   ]
  },
  {
   "cell_type": "markdown",
   "id": "0d8f8090",
   "metadata": {},
   "source": [
    "#### 16. Сформировать модель машинного обучения"
   ]
  },
  {
   "cell_type": "code",
   "execution_count": null,
   "id": "34bdc331",
   "metadata": {},
   "outputs": [],
   "source": [
    "# Ваш код здесь"
   ]
  },
  {
   "cell_type": "markdown",
   "id": "b7716ff7",
   "metadata": {},
   "source": [
    "#### 17. Обучить модель"
   ]
  },
  {
   "cell_type": "code",
   "execution_count": null,
   "id": "7260f142",
   "metadata": {},
   "outputs": [],
   "source": [
    "# Ваш код здесь"
   ]
  },
  {
   "cell_type": "markdown",
   "id": "f8198f20",
   "metadata": {},
   "source": [
    "#### 18. Оценить качество модели"
   ]
  },
  {
   "cell_type": "code",
   "execution_count": null,
   "id": "03e20a33",
   "metadata": {},
   "outputs": [],
   "source": [
    "# Ваш код здесь"
   ]
  },
  {
   "cell_type": "markdown",
   "id": "3d85506d",
   "metadata": {},
   "source": [
    "#### 19. Выполнить предсказание класса для трех разных фраз"
   ]
  },
  {
   "cell_type": "code",
   "execution_count": null,
   "id": "1b543960",
   "metadata": {},
   "outputs": [],
   "source": [
    "# Ваш код здесь"
   ]
  },
  {
   "cell_type": "markdown",
   "id": "fa7df1eb",
   "metadata": {},
   "source": [
    "#### 20. По итогам сделать вывод о качестве и пригодности модели машинного обучения для использования"
   ]
  },
  {
   "cell_type": "code",
   "execution_count": null,
   "id": "ce260d66",
   "metadata": {},
   "outputs": [],
   "source": [
    "# Ваш код здесь"
   ]
  },
  {
   "cell_type": "markdown",
   "id": "944389d0",
   "metadata": {},
   "source": [
    "#### 21. Постройте еще две модели машинного обучения, сравните той, что была в задании и сделайте вывод о том, какая модель лучше"
   ]
  },
  {
   "cell_type": "code",
   "execution_count": null,
   "id": "c485ef49",
   "metadata": {},
   "outputs": [],
   "source": [
    "# Ваш код здесь"
   ]
  }
 ],
 "metadata": {},
 "nbformat": 4,
 "nbformat_minor": 5
}
