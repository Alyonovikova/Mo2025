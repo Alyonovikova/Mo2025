{
 "cells": [
  {
   "cell_type": "markdown",
   "metadata": {
    "id": "UmwDdclJn3cu"
   },
   "source": [
    "# 01 Основы языка Python\n",
    "\n",
    "Рассмотрим принципы работы с языком, арифметические операции, вывод на экран."
   ]
  },
  {
   "cell_type": "markdown",
   "metadata": {
    "id": "wgpOvqwkoL5e"
   },
   "source": [
    "# 1. Очень простые «программы»\n",
    "## 1.1 Запуск Python из командной строки\n",
    "Чтобы выполнить фрагменты кода, мы можем запустить Python из командной строки. В этом блокноте Jupyter мы собираемся смоделировать это. Вы можете вводить команды в поля и выполнять их.\n",
    "В поле введите:\n",
    "\n",
    "`print('Hello, World')`\n",
    "\n",
    "Затем нажмите `<shift> + <return>`, чтобы выполнить команду.\n"
   ]
  },
  {
   "cell_type": "code",
   "execution_count": 1,
   "metadata": {
    "id": "z0wbzCSmpYvy"
   },
   "outputs": [
    {
     "name": "stdout",
     "output_type": "stream",
     "text": [
      "Hello, World\n"
     ]
    }
   ],
   "source": [
    "print('Hello, World')"
   ]
  },
  {
   "cell_type": "markdown",
   "metadata": {
    "id": "pVvtH_sipaLe"
   },
   "source": [
    "Что случилось?\n",
    "\n",
    "Вы только что создали программу, которая печатает слова «Hello, World». Среда Python, в которой вы находитесь, немедленно компилирует все, что вы ввели. Это называется интерпретатор языка."
   ]
  },
  {
   "cell_type": "markdown",
   "metadata": {
    "id": "n2foxPN2pwr0"
   },
   "source": [
    "## 1.2 Математика в Python\n",
    "Наберите в ячейке\n",
    "`1 + 1`\n",
    "и выполните код. (см. п. 1.1.)"
   ]
  },
  {
   "cell_type": "code",
   "execution_count": 2,
   "metadata": {
    "id": "qb6kPz8Ap6BI"
   },
   "outputs": [
    {
     "data": {
      "text/plain": [
       "2"
      ]
     },
     "execution_count": 2,
     "metadata": {},
     "output_type": "execute_result"
    }
   ],
   "source": [
    "1+1"
   ]
  },
  {
   "cell_type": "markdown",
   "metadata": {
    "id": "yBbIQd6tp-HV"
   },
   "source": [
    "Теперь введите\n",
    "\n",
    "`20 + 80`\n",
    "\n",
    "выполните код."
   ]
  },
  {
   "cell_type": "code",
   "execution_count": 3,
   "metadata": {
    "id": "3zaVgKUVqD_H"
   },
   "outputs": [
    {
     "data": {
      "text/plain": [
       "100"
      ]
     },
     "execution_count": 3,
     "metadata": {},
     "output_type": "execute_result"
    }
   ],
   "source": [
    "20+80"
   ]
  },
  {
   "cell_type": "markdown",
   "metadata": {
    "id": "LIIUHqIVqKOk"
   },
   "source": [
    "Попробуйте и другие операции\n",
    "\n",
    "`+` сложение\n",
    "\n",
    "`-` вычитание\n",
    "\n",
    "`*` умножение\n",
    "\n",
    "`/` деление\n"
   ]
  },
  {
   "cell_type": "code",
   "execution_count": 4,
   "metadata": {
    "id": "OfJF_qwvqaGk"
   },
   "outputs": [
    {
     "data": {
      "text/plain": [
       "4.0"
      ]
     },
     "execution_count": 4,
     "metadata": {},
     "output_type": "execute_result"
    }
   ],
   "source": [
    "80/20"
   ]
  },
  {
   "cell_type": "code",
   "execution_count": 5,
   "metadata": {},
   "outputs": [
    {
     "data": {
      "text/plain": [
       "60"
      ]
     },
     "execution_count": 5,
     "metadata": {},
     "output_type": "execute_result"
    }
   ],
   "source": [
    "80-20"
   ]
  },
  {
   "cell_type": "code",
   "execution_count": 6,
   "metadata": {},
   "outputs": [
    {
     "data": {
      "text/plain": [
       "1600"
      ]
     },
     "execution_count": 6,
     "metadata": {},
     "output_type": "execute_result"
    }
   ],
   "source": [
    "80*20"
   ]
  },
  {
   "cell_type": "markdown",
   "metadata": {
    "id": "tN5dNWDqqdJk"
   },
   "source": [
    "Существует операция возведения в степень: $5^2 = $ `5 ** 2`. Попробуйте вычислить в строке ниже."
   ]
  },
  {
   "cell_type": "code",
   "execution_count": 7,
   "metadata": {
    "id": "6ebTTVCGsNBc"
   },
   "outputs": [
    {
     "data": {
      "text/plain": [
       "25"
      ]
     },
     "execution_count": 7,
     "metadata": {},
     "output_type": "execute_result"
    }
   ],
   "source": [
    "5**2"
   ]
  },
  {
   "cell_type": "markdown",
   "metadata": {
    "id": "vGRu1tkXsRjs"
   },
   "source": [
    "Операции деления с остатком:\n",
    "\n",
    "// - целая часть от деления\n",
    "\n",
    "% - остаток от деления\n",
    "\n",
    "Посчитайте `7//3`, `11%4`"
   ]
  },
  {
   "cell_type": "code",
   "execution_count": 8,
   "metadata": {
    "id": "bkanXxZEshbg"
   },
   "outputs": [
    {
     "data": {
      "text/plain": [
       "2"
      ]
     },
     "execution_count": 8,
     "metadata": {},
     "output_type": "execute_result"
    }
   ],
   "source": [
    "7//3"
   ]
  },
  {
   "cell_type": "code",
   "execution_count": 9,
   "metadata": {},
   "outputs": [
    {
     "data": {
      "text/plain": [
       "3"
      ]
     },
     "execution_count": 9,
     "metadata": {},
     "output_type": "execute_result"
    }
   ],
   "source": [
    "11%4"
   ]
  },
  {
   "cell_type": "markdown",
   "metadata": {
    "id": "weOILto5szgr"
   },
   "source": [
    "## 1.3 print - вывод на экран\n",
    "\n",
    "Рассмотрим синтаксис этой функции. Самый простой пример:\n",
    "\n",
    "`print()`\n",
    "\n",
    "Даже если функция не получает никаких аргументов, все равно необходимо вставлять после названия пустые скобки, что значит для интерпретатора выполнить функцию, а не просто ссылаться на нее.\n",
    "\n",
    "В результате этого будет выведен неотображаемый символ пустой строки, она появиться на экране, не нужно путать это с пустой строкой, в которой вообще нет никаких символов.\n",
    "\n",
    "Но чаще всего нужно передать какое-то сообщение пользователю, к примеру:\n",
    "\n",
    "`print('Your message here')`"
   ]
  },
  {
   "cell_type": "markdown",
   "metadata": {
    "id": "sqZYUcNPttGS"
   },
   "source": [
    "Следующий пример – вывод строкового значения из переменной:\n",
    "\n",
    "`message = 'Hello world'`\n",
    "\n",
    "`print(message)`\n",
    "\n"
   ]
  },
  {
   "cell_type": "code",
   "execution_count": 10,
   "metadata": {
    "id": "vbv8gWj4tz0c"
   },
   "outputs": [
    {
     "name": "stdout",
     "output_type": "stream",
     "text": [
      "Hello world\n"
     ]
    }
   ],
   "source": [
    "message = 'Hello world'\n",
    "\n",
    "print(message)"
   ]
  },
  {
   "cell_type": "markdown",
   "metadata": {
    "id": "gT_yQuUst0zq"
   },
   "source": [
    "Выведем разные типы данных:\n",
    "\n",
    "\n",
    "```\n",
    "print('one', 'two', 'three')  # str\n",
    "\n",
    "print(42)  # int\n",
    "\n",
    "print(3.14)  # float\n",
    "\n",
    "print(True)  # bool\n",
    "\n",
    "print([1, 2, 3])  # list\n",
    "\n",
    "print({'red', 'green', 'blue'})  # set\n",
    "\n",
    "print({'name': 'Alice', 'age': 42})  # dict\n",
    "\n",
    "print((1, 2, 3))  # tuple\n",
    "```\n",
    "\n"
   ]
  },
  {
   "cell_type": "code",
   "execution_count": 11,
   "metadata": {
    "id": "VB1sC6YRuFJS"
   },
   "outputs": [
    {
     "name": "stdout",
     "output_type": "stream",
     "text": [
      "one two three\n"
     ]
    }
   ],
   "source": [
    "print('one', 'two', 'three')  # str"
   ]
  },
  {
   "cell_type": "code",
   "execution_count": 12,
   "metadata": {},
   "outputs": [
    {
     "name": "stdout",
     "output_type": "stream",
     "text": [
      "42\n"
     ]
    }
   ],
   "source": [
    "print(42)  # int"
   ]
  },
  {
   "cell_type": "code",
   "execution_count": 13,
   "metadata": {},
   "outputs": [
    {
     "name": "stdout",
     "output_type": "stream",
     "text": [
      "3.14\n"
     ]
    }
   ],
   "source": [
    "print(3.14)  # float"
   ]
  },
  {
   "cell_type": "code",
   "execution_count": 14,
   "metadata": {},
   "outputs": [
    {
     "name": "stdout",
     "output_type": "stream",
     "text": [
      "True\n"
     ]
    }
   ],
   "source": [
    "print(True)  # bool"
   ]
  },
  {
   "cell_type": "code",
   "execution_count": 15,
   "metadata": {},
   "outputs": [
    {
     "name": "stdout",
     "output_type": "stream",
     "text": [
      "[1, 2, 3]\n"
     ]
    }
   ],
   "source": [
    "print([1, 2, 3])  # list"
   ]
  },
  {
   "cell_type": "code",
   "execution_count": 16,
   "metadata": {},
   "outputs": [
    {
     "name": "stdout",
     "output_type": "stream",
     "text": [
      "{'blue', 'red', 'green'}\n"
     ]
    }
   ],
   "source": [
    "print({'red', 'green', 'blue'})  # set"
   ]
  },
  {
   "cell_type": "code",
   "execution_count": 17,
   "metadata": {},
   "outputs": [
    {
     "name": "stdout",
     "output_type": "stream",
     "text": [
      "{'name': 'Alice', 'age': 42}\n"
     ]
    }
   ],
   "source": [
    "print({'name': 'Alice', 'age': 42})  # dict"
   ]
  },
  {
   "cell_type": "code",
   "execution_count": 18,
   "metadata": {},
   "outputs": [
    {
     "name": "stdout",
     "output_type": "stream",
     "text": [
      "(1, 2, 3)\n"
     ]
    }
   ],
   "source": [
    "print((1, 2, 3))  # tuple"
   ]
  },
  {
   "cell_type": "markdown",
   "metadata": {
    "id": "7YsoJe3suU9r"
   },
   "source": [
    "Вы также можете распечатать переменные, просто разделив их запятыми\n",
    "```\n",
    "name = \"Аделаида\"\n",
    "print(\"Привет\", name, \"как дела?\")\n",
    "```\n"
   ]
  },
  {
   "cell_type": "code",
   "execution_count": 19,
   "metadata": {
    "id": "k76loudFucn6"
   },
   "outputs": [
    {
     "name": "stdout",
     "output_type": "stream",
     "text": [
      "Привет, Аделаида, как дела?\n"
     ]
    }
   ],
   "source": [
    "name = \"Аделаида,\"\n",
    "print(\"Привет,\", name, \"как дела?\")"
   ]
  },
  {
   "cell_type": "markdown",
   "metadata": {
    "id": "kjmRYTQNuivr"
   },
   "source": [
    "#1.4 Комментарии\n",
    "\n",
    "Комментарий это строка кода, которая не выполняется. Служит для разных пояснений. Выполните следующий код:\n",
    "\n",
    "`# I am a comment. Fear my wrath!`"
   ]
  },
  {
   "cell_type": "code",
   "execution_count": 20,
   "metadata": {
    "id": "C9EWkEs5u1tv"
   },
   "outputs": [],
   "source": [
    "# I am a comment. Fear my wrath!"
   ]
  },
  {
   "cell_type": "markdown",
   "metadata": {
    "id": "G_A2uNGVu6Br"
   },
   "source": [
    "Комментарий — это фрагмент кода, который не запускается. В Python вы добавляете комментарий, помещая перед ним #. # комментирует все, что находится после него в строке, и ничего перед ним. Попробуйте:\n",
    "\n",
    "`print(\"food is very nice\") #eat me`"
   ]
  },
  {
   "cell_type": "code",
   "execution_count": 21,
   "metadata": {
    "id": "vCMZWgm1vCzd"
   },
   "outputs": [
    {
     "name": "stdout",
     "output_type": "stream",
     "text": [
      "food is very nice\n"
     ]
    }
   ],
   "source": [
    "print(\"food is very nice\") #eat me"
   ]
  },
  {
   "cell_type": "markdown",
   "metadata": {
    "id": "_vftrmAdxaQS"
   },
   "source": [
    "# 1.5 Приоритет операций\n",
    "\n",
    "Помните ту штуку, которую учили на уроках математики, под названием \"порядок действий\"? Что ж, это применимо и к Python. Вот оно, если вам нужно напомнить:\n",
    "\n",
    "1. Круглые скобки()\n",
    "2. Возведение в степень **\n",
    "3. Умножение *, деление / и остаток %\n",
    "4. Сложение + и вычитание -\n",
    "\n",
    "Вот несколько примеров, которые вы можете попробовать:\n",
    "```\n",
    "1 + 2 * 3\n",
    "(1 + 2) * 3\n",
    "```"
   ]
  },
  {
   "cell_type": "code",
   "execution_count": 22,
   "metadata": {
    "id": "s8ZhSbiKxwDa"
   },
   "outputs": [
    {
     "data": {
      "text/plain": [
       "7"
      ]
     },
     "execution_count": 22,
     "metadata": {},
     "output_type": "execute_result"
    }
   ],
   "source": [
    "1 + 2 * 3"
   ]
  },
  {
   "cell_type": "code",
   "execution_count": 23,
   "metadata": {},
   "outputs": [
    {
     "data": {
      "text/plain": [
       "9"
      ]
     },
     "execution_count": 23,
     "metadata": {},
     "output_type": "execute_result"
    }
   ],
   "source": [
    "(1 + 2) * 3"
   ]
  },
  {
   "cell_type": "markdown",
   "metadata": {
    "id": "mC6vwG0Bvckz"
   },
   "source": [
    "# Задание 1\n",
    "\n",
    "Используя оператор print выведите на экран небольшой рассказ о себе. Должно быть использовано не менее 8 операторов print.\n",
    "\n",
    "Пример:\n",
    "\n",
    "```\n",
    "print('Привет всем! Меня зовут Аристотель.')\n",
    "print(\"Я родился в городе Стагире, греческой колонии в Халкидиках, недалеко от Афонской горы, между июлем и октябрём в первый год \",99,\" олимпиады.\" )\n",
    "print('Я люблю всякие науки, например философию.')\n",
    "print(\"Долгими зиминими вечерами я обычно размышляю о физике.\", \"А потом о метафизике.\")\n",
    "```"
   ]
  },
  {
   "cell_type": "code",
   "execution_count": 24,
   "metadata": {
    "id": "HcESMxCWw3P9"
   },
   "outputs": [
    {
     "name": "stdout",
     "output_type": "stream",
     "text": [
      "Добрый день!\n",
      "Меня зовут Алёна.\n",
      "Я из Благовещенска (Амурская область).\n",
      "Мне 22 года. В апреле исполнится 23.\n",
      "Я учусь в МГУ имени М.В. Ломоносова.\n",
      "В 2024 году окончила бакалавриат в СПбГУ (Высшую школу журналистики и массовых коммуникаций).\n",
      "Люблю путешествовать, узнавать новое и знакомиться с новыми людьми.\n",
      "Давайте дружить!\n"
     ]
    }
   ],
   "source": [
    "print('Добрый день!')\n",
    "print('Меня зовут Алёна.')\n",
    "print(\"Я из Благовещенска (Амурская область).\")\n",
    "print(\"Мне\", 22, \"года.\", \"В апреле исполнится 23.\")\n",
    "print('Я учусь в МГУ имени М.В. Ломоносова.')\n",
    "print(\"В\", 2024, \"году окончила бакалавриат в СПбГУ (Высшую школу журналистики и массовых коммуникаций).\")\n",
    "print(\"Люблю путешествовать, узнавать новое и знакомиться с новыми людьми.\")\n",
    "print(\"Давайте дружить!\")"
   ]
  },
  {
   "cell_type": "markdown",
   "metadata": {
    "id": "znJt3O_Qw7iU"
   },
   "source": [
    "# Задание 2\n",
    "\n",
    "Карандаш стоит 18 рублей 45 копеек за штуку. Покупатель дал кассиру 500 рублей и хочет купить 8 карандашей. Какую сдачу он должен получить? Ответ дайте в рублях.\n"
   ]
  },
  {
   "cell_type": "code",
   "execution_count": 26,
   "metadata": {
    "id": "9l0cDUqrz6zt"
   },
   "outputs": [
    {
     "name": "stdout",
     "output_type": "stream",
     "text": [
      "Покупатель должен получить сдачу 352.0 рубля\n"
     ]
    }
   ],
   "source": [
    "x = 18.45\n",
    "y = 500\n",
    "z = y - x * 8\n",
    "print('Покупатель должен получить сдачу', z // 1, 'рубля')"
   ]
  },
  {
   "cell_type": "markdown",
   "metadata": {
    "id": "zY4uh9scz7SE"
   },
   "source": [
    "# Задание 3\n",
    "\n",
    "Ребенок в день съедает два творожка. Творожок продается в упаковках по пять штук. Какое наименьшее число упаковок надо купить, чтобы ребенку хватило на две недели?"
   ]
  },
  {
   "cell_type": "code",
   "execution_count": 39,
   "metadata": {
    "id": "AwZoZRdG0Biv"
   },
   "outputs": [
    {
     "name": "stdout",
     "output_type": "stream",
     "text": [
      "Нужно купить 6 упаковок\n"
     ]
    }
   ],
   "source": [
    "х = 2\n",
    "y = 5\n",
    "z = 14\n",
    "a = (z * x) / y\n",
    "if a % 1 > 0:\n",
    "    print('Нужно купить', int(a // 1 + 1), 'упаковок')\n",
    "else:\n",
    "    print('Нужно купить', a // 1, 'упаковок')"
   ]
  },
  {
   "cell_type": "markdown",
   "metadata": {
    "id": "AdFd5gbK0CeE"
   },
   "source": [
    "# Задание 4\n",
    "\n",
    "Килограмм картошки 32 рубля. У Олега есть 1000 р, из этой суммы он 640 р должен положить на телефон, а на остальные деньги он купил картошку. Сколько килограмм купил Олег, если он получил сдачу 8 рублей?"
   ]
  },
  {
   "cell_type": "code",
   "execution_count": 44,
   "metadata": {
    "id": "23ot9WQT0Jc_"
   },
   "outputs": [
    {
     "name": "stdout",
     "output_type": "stream",
     "text": [
      "Олег купил 11 килограмм картошки\n"
     ]
    }
   ],
   "source": [
    "x = 32\n",
    "y = 1000\n",
    "z = 640\n",
    "a = 8\n",
    "b = y - a - z\n",
    "c = b / x\n",
    "print('Олег купил', int(c), 'килограмм картошки')"
   ]
  }
 ],
 "metadata": {
  "colab": {
   "provenance": []
  },
  "kernelspec": {
   "display_name": "Python 3 (ipykernel)",
   "language": "python",
   "name": "python3"
  },
  "language_info": {
   "codemirror_mode": {
    "name": "ipython",
    "version": 3
   },
   "file_extension": ".py",
   "mimetype": "text/x-python",
   "name": "python",
   "nbconvert_exporter": "python",
   "pygments_lexer": "ipython3",
   "version": "3.11.5"
  }
 },
 "nbformat": 4,
 "nbformat_minor": 4
}
