{
 "cells": [
  {
   "cell_type": "markdown",
   "id": "677d6342",
   "metadata": {},
   "source": [
    "# A - Задача на вычисление\n",
    "\n",
    "Система навигации самолёта информирует пассажира о том, что полёт проходит на высоте 37 000 футов. Выразите высоту полёта в метрах. Считайте, что 1 фут равен 30,5см."
   ]
  },
  {
   "cell_type": "markdown",
   "id": "35f14d77",
   "metadata": {},
   "source": [
    "## Задание\n",
    "\n",
    "Напишите программу на языке Python для решения задачи с использованием переменных."
   ]
  },
  {
   "cell_type": "code",
   "execution_count": 1,
   "id": "d72f835a",
   "metadata": {
    "execution": {
     "iopub.execute_input": "2025-03-05T14:52:46.759247Z",
     "iopub.status.busy": "2025-03-05T14:52:46.758649Z",
     "iopub.status.idle": "2025-03-05T14:52:46.774282Z",
     "shell.execute_reply": "2025-03-05T14:52:46.772197Z",
     "shell.execute_reply.started": "2025-03-05T14:52:46.759204Z"
    },
    "tags": []
   },
   "outputs": [
    {
     "name": "stdout",
     "output_type": "stream",
     "text": [
      "Высота полёта: 11285.0 метров\n"
     ]
    }
   ],
   "source": [
    "# Ваш код здесь\n",
    "# 1. Входные данные. Здесь нужно определить переменные для хранения входных данных и присвоить им значения.\n",
    "height_foot = 37000\n",
    "foot_to_cm = 30.5\n",
    "\n",
    "# 2. Обработка данных. Здесь нужно вычислить искомое значение и сохранить его в переменной.\n",
    "height_m = height_foot * foot_to_cm / 100\n",
    "\n",
    "# 3. Вывод результатов. Здесь нужно вывести вычисленное значение на экран.\n",
    "print(f'Высота полёта: {height_m} метров')"
   ]
  },
  {
   "cell_type": "markdown",
   "id": "ed3cddd5",
   "metadata": {},
   "source": [
    "# B - Задача на ввод и вывод\n",
    "\n",
    "Ананасы стоят 85 руб. за штуку. Какое максимальное число ананасов можно купить на X руб., если их цена снизится на Y%?"
   ]
  },
  {
   "cell_type": "markdown",
   "id": "8f5ce704",
   "metadata": {},
   "source": [
    "## Задание\n",
    "\n",
    "Напишите программу на языке Python для решения задачи с использованием переменных."
   ]
  },
  {
   "cell_type": "code",
   "execution_count": 2,
   "id": "44778426",
   "metadata": {
    "execution": {
     "iopub.execute_input": "2025-03-05T14:52:46.777366Z",
     "iopub.status.busy": "2025-03-05T14:52:46.776940Z",
     "iopub.status.idle": "2025-03-05T14:52:53.082570Z",
     "shell.execute_reply": "2025-03-05T14:52:53.081298Z",
     "shell.execute_reply.started": "2025-03-05T14:52:46.777327Z"
    },
    "tags": []
   },
   "outputs": [
    {
     "name": "stdin",
     "output_type": "stream",
     "text": [
      "Сколько у вас рублей? 1000\n",
      "На сколько процентов снизилась цена ананасов? 10\n"
     ]
    },
    {
     "name": "stdout",
     "output_type": "stream",
     "text": [
      "Можно купить 13 анансов на 994.5 руб.\n"
     ]
    }
   ],
   "source": [
    "# Ваш код здесь\n",
    "# 1. Входные данные. Здесь нужно определить переменные для хранения входных данных и ввести значения с клавиатуры.\n",
    "ananas_rub = 85 # pineapple\n",
    "cash = float(input('Сколько у вас рублей?'))\n",
    "discount = float(input('На сколько процентов снизилась цена ананасов?'))\n",
    "\n",
    "# 2. Обработка данных. Здесь нужно вычислить искомое значение и сохранить его в переменной.\n",
    "new_price = ananas_rub * (1 - discount / 100)\n",
    "ananas_max_count = cash // new_price\n",
    "\n",
    "# 3. Вывод результатов. Здесь нужно вывести вычисленное значение на экран.\n",
    "print(f'Можно купить {int(ananas_max_count)} анансов на {new_price * int(ananas_max_count)} руб.')"
   ]
  },
  {
   "cell_type": "markdown",
   "id": "6f5d8c12",
   "metadata": {},
   "source": [
    "# C - Задача про Евграфа\n",
    "\n",
    "Евграф увлекается наукой. Он изучает разные дисциплины по дням недели. В понедельник и пятницу он изучает математику, во вторник и субботу химию, в среду и воскресенье физику, а в четверг биологию."
   ]
  },
  {
   "cell_type": "markdown",
   "id": "397338bc",
   "metadata": {},
   "source": [
    "## Задание\n",
    "\n",
    "Напишите программу на языке Python, которая по введенному дню недели определит дисциплину для изучения Евграфом."
   ]
  },
  {
   "cell_type": "code",
   "execution_count": 3,
   "id": "aa0acc8b",
   "metadata": {
    "execution": {
     "iopub.execute_input": "2025-03-05T14:52:53.084422Z",
     "iopub.status.busy": "2025-03-05T14:52:53.083955Z",
     "iopub.status.idle": "2025-03-05T14:52:59.057886Z",
     "shell.execute_reply": "2025-03-05T14:52:59.056704Z",
     "shell.execute_reply.started": "2025-03-05T14:52:53.084380Z"
    },
    "tags": []
   },
   "outputs": [
    {
     "name": "stdin",
     "output_type": "stream",
     "text": [
      "Введите день недели (пн, вт, ср, чт, пт, сб, вс):  ср\n"
     ]
    },
    {
     "name": "stdout",
     "output_type": "stream",
     "text": [
      "Евграф, сегодня тебе нужно изучать физику\n"
     ]
    }
   ],
   "source": [
    "# Ваш код здесь\n",
    "# 1. Входные данные. Здесь нужно определить переменные для хранения входных данных и ввести значения с клавиатуры.\n",
    "schedule = {'пн': 'математику',\n",
    "            'вт': 'химию',\n",
    "            'ср': 'физику',\n",
    "            'чт': 'биологию',\n",
    "            'пт': 'математику',\n",
    "            'сб': 'химию',\n",
    "            'вс': 'физику'}\n",
    "day = input('Введите день недели (пн, вт, ср, чт, пт, сб, вс): ')\n",
    "\n",
    "# 2. Обработка данных. Здесь нужно вычислить искомое значение и сохранить его в переменной.\n",
    "discipline = schedule[day]\n",
    "\n",
    "# 3. Вывод результатов. Здесь нужно вывести вычисленное значение на экран.\n",
    "print(f'Евграф, сегодня тебе нужно изучать {discipline}')"
   ]
  },
  {
   "cell_type": "markdown",
   "id": "04b57537",
   "metadata": {},
   "source": [
    "# D - Задача на списки\n",
    "\n",
    "Нужно сформировать список  lst из 20 элементов случайным образом. Элементы списка должны быть в диапазоне [-50;50]. Выведите элементы списка на экран."
   ]
  },
  {
   "cell_type": "code",
   "execution_count": 4,
   "id": "c406f0d6",
   "metadata": {
    "execution": {
     "iopub.execute_input": "2025-03-05T14:52:59.060050Z",
     "iopub.status.busy": "2025-03-05T14:52:59.059552Z",
     "iopub.status.idle": "2025-03-05T14:52:59.067387Z",
     "shell.execute_reply": "2025-03-05T14:52:59.066158Z",
     "shell.execute_reply.started": "2025-03-05T14:52:59.060007Z"
    },
    "tags": []
   },
   "outputs": [
    {
     "name": "stdout",
     "output_type": "stream",
     "text": [
      "Список из 20 случайных элементов из диапазона [-50;50]: [-3, -38, -28, -42, 31, -44, 3, 7, -48, -37, 7, -11, 5, 10, -3, -10, 46, 4, -19, -11]\n"
     ]
    }
   ],
   "source": [
    "# Ваш код здесь\n",
    "import random\n",
    "random_list = [random.randint(-50, 50) for _ in range(20)]\n",
    "print(f'Список из 20 случайных элементов из диапазона [-50;50]: {random_list}')"
   ]
  },
  {
   "cell_type": "markdown",
   "id": "427c9322",
   "metadata": {},
   "source": [
    "#### Задание 1: Найдите длину списка"
   ]
  },
  {
   "cell_type": "code",
   "execution_count": 5,
   "id": "5d5a8b26",
   "metadata": {
    "execution": {
     "iopub.execute_input": "2025-03-05T14:52:59.069331Z",
     "iopub.status.busy": "2025-03-05T14:52:59.068871Z",
     "iopub.status.idle": "2025-03-05T14:52:59.075508Z",
     "shell.execute_reply": "2025-03-05T14:52:59.074284Z",
     "shell.execute_reply.started": "2025-03-05T14:52:59.069291Z"
    },
    "tags": []
   },
   "outputs": [
    {
     "name": "stdout",
     "output_type": "stream",
     "text": [
      "Длина списка: 20\n"
     ]
    }
   ],
   "source": [
    "# Ваш код здесь\n",
    "random_list_len = len(random_list)\n",
    "print(f'Длина списка: {random_list_len}')"
   ]
  },
  {
   "cell_type": "markdown",
   "id": "1c1c170b",
   "metadata": {},
   "source": [
    "#### Задание 2: Найдите максимальный и минимальный элемент списка"
   ]
  },
  {
   "cell_type": "code",
   "execution_count": 6,
   "id": "fc626a6b",
   "metadata": {
    "execution": {
     "iopub.execute_input": "2025-03-05T14:52:59.077887Z",
     "iopub.status.busy": "2025-03-05T14:52:59.077120Z",
     "iopub.status.idle": "2025-03-05T14:52:59.085373Z",
     "shell.execute_reply": "2025-03-05T14:52:59.084021Z",
     "shell.execute_reply.started": "2025-03-05T14:52:59.077847Z"
    },
    "tags": []
   },
   "outputs": [
    {
     "name": "stdout",
     "output_type": "stream",
     "text": [
      "Максимальный элемент списка: 46\n",
      "Минимальный элемент списка: -48\n"
     ]
    }
   ],
   "source": [
    "# Ваш код здесь\n",
    "random_list_max = max(random_list)\n",
    "random_list_min = min(random_list)\n",
    "print(f'Максимальный элемент списка: {random_list_max}')\n",
    "print(f'Минимальный элемент списка: {random_list_min}')"
   ]
  },
  {
   "cell_type": "markdown",
   "id": "c800df73",
   "metadata": {},
   "source": [
    "#### Задание 3: Выведите список в обратном порядке"
   ]
  },
  {
   "cell_type": "code",
   "execution_count": 7,
   "id": "0d0ec638",
   "metadata": {
    "execution": {
     "iopub.execute_input": "2025-03-05T14:52:59.089844Z",
     "iopub.status.busy": "2025-03-05T14:52:59.089392Z",
     "iopub.status.idle": "2025-03-05T14:52:59.096218Z",
     "shell.execute_reply": "2025-03-05T14:52:59.095008Z",
     "shell.execute_reply.started": "2025-03-05T14:52:59.089804Z"
    },
    "tags": []
   },
   "outputs": [
    {
     "name": "stdout",
     "output_type": "stream",
     "text": [
      "Cписок в обратном порядке: [-11, -19, 4, 46, -10, -3, 10, 5, -11, 7, -37, -48, 7, 3, -44, 31, -42, -28, -38, -3]\n"
     ]
    }
   ],
   "source": [
    "# Ваш код здесь\n",
    "random_list_reverse = random_list[::-1]\n",
    "print(f'Cписок в обратном порядке: {random_list_reverse}')"
   ]
  },
  {
   "cell_type": "code",
   "execution_count": 8,
   "id": "f8239124-e99b-495f-92cc-012c58f2315c",
   "metadata": {
    "execution": {
     "iopub.execute_input": "2025-03-05T14:52:59.098119Z",
     "iopub.status.busy": "2025-03-05T14:52:59.097672Z",
     "iopub.status.idle": "2025-03-05T14:52:59.104514Z",
     "shell.execute_reply": "2025-03-05T14:52:59.103328Z",
     "shell.execute_reply.started": "2025-03-05T14:52:59.098079Z"
    },
    "tags": []
   },
   "outputs": [
    {
     "name": "stdout",
     "output_type": "stream",
     "text": [
      "Cписок в обратном порядке: [-11, -19, 4, 46, -10, -3, 10, 5, -11, 7, -37, -48, 7, 3, -44, 31, -42, -28, -38, -3]\n"
     ]
    }
   ],
   "source": [
    "# Ваш код здесь\n",
    "random_list.reverse()\n",
    "print(f'Cписок в обратном порядке: {random_list}')"
   ]
  },
  {
   "cell_type": "markdown",
   "id": "eed7a341",
   "metadata": {},
   "source": [
    "#### Задание 4: Создайте копию списка в переменной mlst и отсортируйте список mlst по возрастанию"
   ]
  },
  {
   "cell_type": "code",
   "execution_count": 9,
   "id": "3adbd4d2",
   "metadata": {
    "execution": {
     "iopub.execute_input": "2025-03-05T14:52:59.106698Z",
     "iopub.status.busy": "2025-03-05T14:52:59.106038Z",
     "iopub.status.idle": "2025-03-05T14:52:59.113415Z",
     "shell.execute_reply": "2025-03-05T14:52:59.112247Z",
     "shell.execute_reply.started": "2025-03-05T14:52:59.106658Z"
    },
    "tags": []
   },
   "outputs": [
    {
     "name": "stdout",
     "output_type": "stream",
     "text": [
      "Отсортированный список по возрастанию: [-48, -44, -42, -38, -37, -28, -19, -11, -11, -10, -3, -3, 3, 4, 5, 7, 7, 10, 31, 46]\n"
     ]
    }
   ],
   "source": [
    "# Ваш код здесь\n",
    "mlst = random_list.copy()\n",
    "random_list_sorted = sorted(mlst, reverse=False)\n",
    "print(f'Отсортированный список по возрастанию: {random_list_sorted}')"
   ]
  },
  {
   "cell_type": "markdown",
   "id": "60337b3a",
   "metadata": {},
   "source": [
    "#### Задание 5: Дано число K=4: Добавьте в список число K"
   ]
  },
  {
   "cell_type": "code",
   "execution_count": 10,
   "id": "57f4b197",
   "metadata": {
    "execution": {
     "iopub.execute_input": "2025-03-05T14:52:59.115270Z",
     "iopub.status.busy": "2025-03-05T14:52:59.114756Z",
     "iopub.status.idle": "2025-03-05T14:52:59.121845Z",
     "shell.execute_reply": "2025-03-05T14:52:59.120653Z",
     "shell.execute_reply.started": "2025-03-05T14:52:59.115231Z"
    },
    "tags": []
   },
   "outputs": [
    {
     "name": "stdout",
     "output_type": "stream",
     "text": [
      "Список после добавления к нему числа k: [-11, -19, 4, 46, -10, -3, 10, 5, -11, 7, -37, -48, 7, 3, -44, 31, -42, -28, -38, -3, 4]\n"
     ]
    }
   ],
   "source": [
    "# Ваш код здесь\n",
    "k = 4\n",
    "random_list.append(k)\n",
    "print(f'Список после добавления к нему числа k: {random_list}')"
   ]
  },
  {
   "cell_type": "markdown",
   "id": "13112976",
   "metadata": {},
   "source": [
    "#### Задание 6: Найдите номер наибольшего элемента списка"
   ]
  },
  {
   "cell_type": "code",
   "execution_count": 11,
   "id": "21f0038c",
   "metadata": {
    "execution": {
     "iopub.execute_input": "2025-03-05T14:52:59.123681Z",
     "iopub.status.busy": "2025-03-05T14:52:59.123254Z",
     "iopub.status.idle": "2025-03-05T14:52:59.130598Z",
     "shell.execute_reply": "2025-03-05T14:52:59.129424Z",
     "shell.execute_reply.started": "2025-03-05T14:52:59.123642Z"
    },
    "tags": []
   },
   "outputs": [
    {
     "name": "stdout",
     "output_type": "stream",
     "text": [
      "Наибольший элемент списка: 46\n",
      "Индекс наибольшего элемента списка: 3\n",
      "Номер наибольшего элемента списка: 4\n"
     ]
    }
   ],
   "source": [
    "# Ваш код здесь\n",
    "max_index = random_list.index(random_list_max)\n",
    "print(f'Наибольший элемент списка: {random_list_max}')\n",
    "print(f'Индекс наибольшего элемента списка: {max_index}') # Счет ведется с 0\n",
    "print(f'Номер наибольшего элемента списка: {max_index + 1}') # Счет ведется с 1"
   ]
  },
  {
   "cell_type": "markdown",
   "id": "c17a0dca",
   "metadata": {},
   "source": [
    "#### Задание 7: Найдите произведение четных элементов списка"
   ]
  },
  {
   "cell_type": "code",
   "execution_count": 12,
   "id": "874a1892",
   "metadata": {
    "execution": {
     "iopub.execute_input": "2025-03-05T14:52:59.132493Z",
     "iopub.status.busy": "2025-03-05T14:52:59.132067Z",
     "iopub.status.idle": "2025-03-05T14:52:59.139639Z",
     "shell.execute_reply": "2025-03-05T14:52:59.138422Z",
     "shell.execute_reply.started": "2025-03-05T14:52:59.132453Z"
    },
    "tags": []
   },
   "outputs": [
    {
     "name": "stdout",
     "output_type": "stream",
     "text": [
      "Четные элементы списка: [4, 46, -10, 10, -48, -44, -42, -28, -38, 4]\n",
      "Произведение четных элементов списка: 6946445721600\n"
     ]
    }
   ],
   "source": [
    "# Ваш код здесь\n",
    "even_elements = []\n",
    "product = 1\n",
    "for element in random_list:\n",
    "    if element % 2 == 0:\n",
    "        even_elements.append(element)\n",
    "        product *= element\n",
    "print(f'Четные элементы списка: {even_elements}')\n",
    "print(f'Произведение четных элементов списка: {product}')"
   ]
  },
  {
   "cell_type": "markdown",
   "id": "8249590e",
   "metadata": {},
   "source": [
    "# E - Задача на строки\n",
    "\n",
    "Пользователь вводит с клавиатуры строку. "
   ]
  },
  {
   "cell_type": "code",
   "execution_count": 13,
   "id": "0f33f98a",
   "metadata": {
    "execution": {
     "iopub.execute_input": "2025-03-05T14:52:59.141562Z",
     "iopub.status.busy": "2025-03-05T14:52:59.141109Z",
     "iopub.status.idle": "2025-03-05T14:53:11.049666Z",
     "shell.execute_reply": "2025-03-05T14:53:11.048350Z",
     "shell.execute_reply.started": "2025-03-05T14:52:59.141522Z"
    },
    "tags": []
   },
   "outputs": [
    {
     "name": "stdin",
     "output_type": "stream",
     "text": [
      "Введите строку: Котики спасут мир!\n"
     ]
    }
   ],
   "source": [
    "# Ваш код здесь\n",
    "the_string = input('Введите строку:') # Котики спасут мир!"
   ]
  },
  {
   "cell_type": "markdown",
   "id": "458de1e6",
   "metadata": {},
   "source": [
    "#### Задание 1: Найдите длину строки"
   ]
  },
  {
   "cell_type": "code",
   "execution_count": 14,
   "id": "03023675",
   "metadata": {
    "execution": {
     "iopub.execute_input": "2025-03-05T14:53:11.051579Z",
     "iopub.status.busy": "2025-03-05T14:53:11.051098Z",
     "iopub.status.idle": "2025-03-05T14:53:11.058587Z",
     "shell.execute_reply": "2025-03-05T14:53:11.057425Z",
     "shell.execute_reply.started": "2025-03-05T14:53:11.051536Z"
    },
    "tags": []
   },
   "outputs": [
    {
     "name": "stdout",
     "output_type": "stream",
     "text": [
      "Длина строки: 18\n"
     ]
    }
   ],
   "source": [
    "# Ваш код здесь\n",
    "the_string_len = len(the_string)\n",
    "print(f'Длина строки: {the_string_len}')"
   ]
  },
  {
   "cell_type": "markdown",
   "id": "452a7008",
   "metadata": {},
   "source": [
    "#### Задание 2: Найдите количество пробелов в строке"
   ]
  },
  {
   "cell_type": "code",
   "execution_count": 15,
   "id": "f04cc8ed",
   "metadata": {
    "execution": {
     "iopub.execute_input": "2025-03-05T14:53:11.060460Z",
     "iopub.status.busy": "2025-03-05T14:53:11.060022Z",
     "iopub.status.idle": "2025-03-05T14:53:11.066959Z",
     "shell.execute_reply": "2025-03-05T14:53:11.065741Z",
     "shell.execute_reply.started": "2025-03-05T14:53:11.060420Z"
    },
    "tags": []
   },
   "outputs": [
    {
     "name": "stdout",
     "output_type": "stream",
     "text": [
      "Количество пробелов в строке: 2\n"
     ]
    }
   ],
   "source": [
    "# Ваш код здесь\n",
    "space_count = the_string.count(\" \")\n",
    "print(f'Количество пробелов в строке: {space_count}')"
   ]
  },
  {
   "cell_type": "markdown",
   "id": "0fa362ab",
   "metadata": {},
   "source": [
    "#### Задание 3: Выведите строку в обратном порядке"
   ]
  },
  {
   "cell_type": "code",
   "execution_count": 16,
   "id": "b9ea82f2",
   "metadata": {
    "execution": {
     "iopub.execute_input": "2025-03-05T14:53:11.068685Z",
     "iopub.status.busy": "2025-03-05T14:53:11.068259Z",
     "iopub.status.idle": "2025-03-05T14:53:11.077329Z",
     "shell.execute_reply": "2025-03-05T14:53:11.076261Z",
     "shell.execute_reply.started": "2025-03-05T14:53:11.068645Z"
    },
    "tags": []
   },
   "outputs": [
    {
     "name": "stdout",
     "output_type": "stream",
     "text": [
      "Строка в обратном порядке: !рим тусапс икитоК\n"
     ]
    }
   ],
   "source": [
    "# Ваш код здесь\n",
    "the_string_reverse = the_string[::-1]\n",
    "print(f'Строка в обратном порядке: {the_string_reverse}')"
   ]
  },
  {
   "cell_type": "markdown",
   "id": "d059174a",
   "metadata": {},
   "source": [
    "#### Задание 4: Выведите всю строку, кроме первых двух символов"
   ]
  },
  {
   "cell_type": "code",
   "execution_count": 17,
   "id": "b1aef7ec",
   "metadata": {
    "execution": {
     "iopub.execute_input": "2025-03-05T14:53:11.079461Z",
     "iopub.status.busy": "2025-03-05T14:53:11.078744Z",
     "iopub.status.idle": "2025-03-05T14:53:11.086259Z",
     "shell.execute_reply": "2025-03-05T14:53:11.084974Z",
     "shell.execute_reply.started": "2025-03-05T14:53:11.079419Z"
    },
    "tags": []
   },
   "outputs": [
    {
     "name": "stdout",
     "output_type": "stream",
     "text": [
      "Вся строка, кроме первых двух символов: тики спасут мир!\n"
     ]
    }
   ],
   "source": [
    "# Ваш код здесь\n",
    "the_string_without_first_2_symbols = the_string[2:]\n",
    "print(f'Вся строка, кроме первых двух символов: {the_string_without_first_2_symbols}')"
   ]
  },
  {
   "cell_type": "markdown",
   "id": "9056263b",
   "metadata": {},
   "source": [
    "#### Задание 5: Выведите предпоследний символ этой строки"
   ]
  },
  {
   "cell_type": "code",
   "execution_count": 18,
   "id": "91de2fe5",
   "metadata": {
    "execution": {
     "iopub.execute_input": "2025-03-05T14:53:11.088067Z",
     "iopub.status.busy": "2025-03-05T14:53:11.087628Z",
     "iopub.status.idle": "2025-03-05T14:53:11.094893Z",
     "shell.execute_reply": "2025-03-05T14:53:11.093697Z",
     "shell.execute_reply.started": "2025-03-05T14:53:11.088026Z"
    },
    "tags": []
   },
   "outputs": [
    {
     "name": "stdout",
     "output_type": "stream",
     "text": [
      "Вся строка, кроме первых двух символов: р\n"
     ]
    }
   ],
   "source": [
    "# Ваш код здесь\n",
    "the_string_pre_last_char = the_string[-2]\n",
    "print(f'Вся строка, кроме первых двух символов: {the_string_pre_last_char}')"
   ]
  },
  {
   "cell_type": "markdown",
   "id": "51c9886f",
   "metadata": {},
   "source": [
    "#### Задание 6: Найдите количество слов в строке (слово это последовательность непробельных символов)"
   ]
  },
  {
   "cell_type": "code",
   "execution_count": 19,
   "id": "7098c7e9",
   "metadata": {
    "execution": {
     "iopub.execute_input": "2025-03-05T14:53:11.096737Z",
     "iopub.status.busy": "2025-03-05T14:53:11.096312Z",
     "iopub.status.idle": "2025-03-05T14:53:11.103144Z",
     "shell.execute_reply": "2025-03-05T14:53:11.101950Z",
     "shell.execute_reply.started": "2025-03-05T14:53:11.096697Z"
    },
    "tags": []
   },
   "outputs": [
    {
     "name": "stdout",
     "output_type": "stream",
     "text": [
      "Количество слов в строке: 3\n"
     ]
    }
   ],
   "source": [
    "# Ваш код здесь\n",
    "the_string_words = the_string.split()\n",
    "num_words = len(the_string_words)\n",
    "print(f'Количество слов в строке: {num_words}')"
   ]
  },
  {
   "cell_type": "code",
   "execution_count": 20,
   "id": "a7bd57dc-1904-4869-af82-b0c56650da26",
   "metadata": {
    "execution": {
     "iopub.execute_input": "2025-03-05T14:53:11.104982Z",
     "iopub.status.busy": "2025-03-05T14:53:11.104511Z",
     "iopub.status.idle": "2025-03-05T14:53:11.111678Z",
     "shell.execute_reply": "2025-03-05T14:53:11.110569Z",
     "shell.execute_reply.started": "2025-03-05T14:53:11.104942Z"
    },
    "tags": []
   },
   "outputs": [
    {
     "name": "stdout",
     "output_type": "stream",
     "text": [
      "Количество слов в строке: 3\n"
     ]
    }
   ],
   "source": [
    "# Ваш код здесь\n",
    "the_string_num_words = space_count + 1\n",
    "print(f'Количество слов в строке: {the_string_num_words}')"
   ]
  },
  {
   "cell_type": "markdown",
   "id": "85cb1f9b",
   "metadata": {},
   "source": [
    "#### Задание 7: Разделите строку на части используя пробел как разделитель и сохраните результат в списке slst"
   ]
  },
  {
   "cell_type": "code",
   "execution_count": 21,
   "id": "e00d444a",
   "metadata": {
    "execution": {
     "iopub.execute_input": "2025-03-05T14:53:11.113709Z",
     "iopub.status.busy": "2025-03-05T14:53:11.113276Z",
     "iopub.status.idle": "2025-03-05T14:53:11.120552Z",
     "shell.execute_reply": "2025-03-05T14:53:11.119357Z",
     "shell.execute_reply.started": "2025-03-05T14:53:11.113669Z"
    },
    "tags": []
   },
   "outputs": [
    {
     "name": "stdout",
     "output_type": "stream",
     "text": [
      "Разделенная на части строка: ['Котики', 'спасут', 'мир!']\n"
     ]
    }
   ],
   "source": [
    "# Ваш код здесь\n",
    "slst = the_string.split(\" \") # но можно и просто the_string.split()\n",
    "print(f'Разделенная на части строка: {slst}')"
   ]
  },
  {
   "cell_type": "markdown",
   "id": "6e3a94e5",
   "metadata": {},
   "source": [
    "#### Задание 8: Пользователь вводит с клавиатуры символ. Его нужно сохранить в переменной С: Если символ встречается в строке, найдите его позицию в строке"
   ]
  },
  {
   "cell_type": "code",
   "execution_count": 22,
   "id": "1feda84f",
   "metadata": {
    "execution": {
     "iopub.execute_input": "2025-03-05T14:53:11.126187Z",
     "iopub.status.busy": "2025-03-05T14:53:11.125759Z",
     "iopub.status.idle": "2025-03-05T14:53:16.211096Z",
     "shell.execute_reply": "2025-03-05T14:53:16.209783Z",
     "shell.execute_reply.started": "2025-03-05T14:53:11.126148Z"
    },
    "tags": []
   },
   "outputs": [
    {
     "name": "stdin",
     "output_type": "stream",
     "text": [
      "Введите символ:  а\n"
     ]
    },
    {
     "name": "stdout",
     "output_type": "stream",
     "text": [
      "Символ \"а\" находится на позиции 9\n"
     ]
    }
   ],
   "source": [
    "# Ваш код здесь\n",
    "c = input('Введите символ: ')\n",
    "position = the_string.find(c)\n",
    "\n",
    "if position != -1:\n",
    "    print(f'Символ \"{c}\" находится на позиции {position}')\n",
    "else:\n",
    "    print(f'Символ \"{c}\" не найден в строке')"
   ]
  },
  {
   "cell_type": "markdown",
   "id": "ebd75291",
   "metadata": {},
   "source": [
    "#### Задание 9: Определите есть ли в строке цифра 4"
   ]
  },
  {
   "cell_type": "code",
   "execution_count": 23,
   "id": "dd0295e0",
   "metadata": {
    "execution": {
     "iopub.execute_input": "2025-03-05T14:53:16.212960Z",
     "iopub.status.busy": "2025-03-05T14:53:16.212483Z",
     "iopub.status.idle": "2025-03-05T14:53:16.220686Z",
     "shell.execute_reply": "2025-03-05T14:53:16.219443Z",
     "shell.execute_reply.started": "2025-03-05T14:53:16.212917Z"
    },
    "tags": []
   },
   "outputs": [
    {
     "name": "stdout",
     "output_type": "stream",
     "text": [
      "Цифра \"4\" не найдена в строке\n"
     ]
    }
   ],
   "source": [
    "# Ваш код здесь\n",
    "c = 4\n",
    "position = the_string.find(str(c))\n",
    "\n",
    "if position != -1:\n",
    "    print(f'Цифра \"{c}\" находится на позиции {position}')\n",
    "else:\n",
    "    print(f'Цифра \"{c}\" не найдена в строке')"
   ]
  },
  {
   "cell_type": "markdown",
   "id": "11dd3deb",
   "metadata": {},
   "source": [
    "#### Задание 10: Найдите количество слов в строке, которые начинаются на b"
   ]
  },
  {
   "cell_type": "code",
   "execution_count": 27,
   "id": "ee8dea3b",
   "metadata": {
    "execution": {
     "iopub.execute_input": "2025-03-05T14:54:08.708959Z",
     "iopub.status.busy": "2025-03-05T14:54:08.708296Z",
     "iopub.status.idle": "2025-03-05T14:54:08.716638Z",
     "shell.execute_reply": "2025-03-05T14:54:08.715440Z",
     "shell.execute_reply.started": "2025-03-05T14:54:08.708914Z"
    },
    "tags": []
   },
   "outputs": [
    {
     "name": "stdout",
     "output_type": "stream",
     "text": [
      "Количество слов в строке, начинающихся с \"b\": 0\n"
     ]
    }
   ],
   "source": [
    "# Ваш код здесь\n",
    "count = 0\n",
    "for word in slst:\n",
    "    if word.lower().startswith('b'):\n",
    "        count += 1\n",
    "print(f'Количество слов в строке, начинающихся с \"b\": {count}')"
   ]
  },
  {
   "cell_type": "code",
   "execution_count": 28,
   "id": "d0542e85-e06a-4344-afdd-c23c7b222475",
   "metadata": {
    "execution": {
     "iopub.execute_input": "2025-03-05T14:54:15.396992Z",
     "iopub.status.busy": "2025-03-05T14:54:15.396377Z",
     "iopub.status.idle": "2025-03-05T14:54:15.404616Z",
     "shell.execute_reply": "2025-03-05T14:54:15.403411Z",
     "shell.execute_reply.started": "2025-03-05T14:54:15.396948Z"
    },
    "tags": []
   },
   "outputs": [
    {
     "name": "stdout",
     "output_type": "stream",
     "text": [
      "Новая строка: Betty bought some butter, but the butter was bitter, so Betty bought some better butter to make the bitter butter better\n",
      "Количество слов в строке, начинающихся с \"b\": 13\n"
     ]
    }
   ],
   "source": [
    "new_string = 'Betty bought some butter, but the butter was bitter, so Betty bought some better butter to make the bitter butter better'\n",
    "new_string_split = new_string.split()\n",
    "count = 0\n",
    "for word in new_string_split:\n",
    "    if word.lower().startswith('b'):\n",
    "        count += 1\n",
    "print(f'Новая строка: {new_string}')\n",
    "print(f'Количество слов в строке, начинающихся с \"b\": {count}')"
   ]
  }
 ],
 "metadata": {
  "kernelspec": {
   "display_name": "Python 3.9",
   "language": "python",
   "name": "python3"
  },
  "language_info": {
   "codemirror_mode": {
    "name": "ipython",
    "version": 3
   },
   "file_extension": ".py",
   "mimetype": "text/x-python",
   "name": "python",
   "nbconvert_exporter": "python",
   "pygments_lexer": "ipython3",
   "version": "3.9.18"
  }
 },
 "nbformat": 4,
 "nbformat_minor": 5
}
