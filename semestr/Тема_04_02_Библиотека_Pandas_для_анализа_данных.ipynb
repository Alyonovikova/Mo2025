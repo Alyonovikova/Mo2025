{
  "cells": [
    {
      "cell_type": "markdown",
      "metadata": {
        "ExecuteTime": {
          "end_time": "2017-05-14T12:45:01.548143",
          "start_time": "2017-05-14T12:45:01.544684"
        },
        "id": "uGYeOQnz5iFx"
      },
      "source": [
        "# Анализ данных с Pandas"
      ]
    },
    {
      "cell_type": "code",
      "execution_count": null,
      "metadata": {
        "ExecuteTime": {
          "end_time": "2018-06-22T11:03:09.115996Z",
          "start_time": "2018-06-22T11:03:09.075870Z"
        },
        "id": "PLEesHec5iF0"
      },
      "outputs": [],
      "source": [
        "import pandas as pd\n",
        "import numpy as np"
      ]
    },
    {
      "cell_type": "markdown",
      "metadata": {
        "id": "vXW9u28N5iF1"
      },
      "source": [
        "## Структура"
      ]
    },
    {
      "cell_type": "code",
      "execution_count": null,
      "metadata": {
        "ExecuteTime": {
          "end_time": "2017-07-18T14:34:50.278547",
          "start_time": "2017-07-18T14:34:50.267946"
        },
        "id": "2OTkdaws5iF2"
      },
      "outputs": [],
      "source": [
        "q = pd.DataFrame(data={'a': ['abc', 'bcd', 'def'], 'b': [1,2,3], 'c': [100, 300, 200]}, index=[8,9,10])\n",
        "q"
      ]
    },
    {
      "cell_type": "code",
      "execution_count": null,
      "metadata": {
        "ExecuteTime": {
          "end_time": "2017-07-18T14:34:50.361898",
          "start_time": "2017-07-18T14:34:50.354925"
        },
        "id": "0kiJVmpu5iF3"
      },
      "outputs": [],
      "source": [
        "q.index"
      ]
    },
    {
      "cell_type": "code",
      "execution_count": null,
      "metadata": {
        "ExecuteTime": {
          "end_time": "2017-07-18T14:34:50.631748",
          "start_time": "2017-07-18T14:34:50.627202"
        },
        "id": "-yNr22f45iF3"
      },
      "outputs": [],
      "source": [
        "q.columns"
      ]
    },
    {
      "cell_type": "code",
      "execution_count": null,
      "metadata": {
        "ExecuteTime": {
          "end_time": "2017-07-18T14:34:50.738798",
          "start_time": "2017-07-18T14:34:50.727861"
        },
        "id": "Wm9xgT8p5iF4"
      },
      "outputs": [],
      "source": [
        "q.a"
      ]
    },
    {
      "cell_type": "code",
      "execution_count": null,
      "metadata": {
        "ExecuteTime": {
          "end_time": "2017-07-18T14:34:50.880436",
          "start_time": "2017-07-18T14:34:50.875460"
        },
        "id": "KgPED0ME5iF4"
      },
      "outputs": [],
      "source": [
        "q['a']"
      ]
    },
    {
      "cell_type": "code",
      "execution_count": null,
      "metadata": {
        "ExecuteTime": {
          "end_time": "2017-07-18T14:34:51.054256",
          "start_time": "2017-07-18T14:34:51.050052"
        },
        "id": "T6fprTzE5iF4"
      },
      "outputs": [],
      "source": [
        "type(q.a)"
      ]
    },
    {
      "cell_type": "code",
      "execution_count": null,
      "metadata": {
        "ExecuteTime": {
          "end_time": "2017-07-18T14:34:51.291890",
          "start_time": "2017-07-18T14:34:51.273436"
        },
        "id": "h0UMuLey5iF5"
      },
      "outputs": [],
      "source": [
        "q[:2]"
      ]
    },
    {
      "cell_type": "code",
      "execution_count": null,
      "metadata": {
        "ExecuteTime": {
          "end_time": "2017-07-18T14:34:51.495244",
          "start_time": "2017-07-18T14:34:51.485800"
        },
        "id": "hHvprSZr5iF5"
      },
      "outputs": [],
      "source": [
        "q[ ['a', 'b'] ]"
      ]
    },
    {
      "cell_type": "code",
      "execution_count": null,
      "metadata": {
        "ExecuteTime": {
          "end_time": "2017-07-18T14:34:51.543569",
          "start_time": "2017-07-18T14:34:51.532338"
        },
        "id": "Kk-fe2C95iF5"
      },
      "outputs": [],
      "source": [
        "q[['a', 'b']][:2]"
      ]
    },
    {
      "cell_type": "markdown",
      "metadata": {
        "id": "AqR0N5nZ5iF6"
      },
      "source": [
        "## Чтение и просмотр"
      ]
    },
    {
      "cell_type": "markdown",
      "metadata": {
        "id": "tKtZDVty5iF6"
      },
      "source": [
        "Данные соцопросов Census Income, с которыми будем работать:"
      ]
    },
    {
      "cell_type": "code",
      "execution_count": null,
      "metadata": {
        "ExecuteTime": {
          "end_time": "2018-06-22T11:03:13.273900Z",
          "start_time": "2018-06-22T11:03:13.116041Z"
        },
        "id": "R3ChlOAT5iF7"
      },
      "outputs": [],
      "source": [
        "df = pd.read_csv('https://raw.githubusercontent.com/yakushinav/omo/main/data/adult_data.csv')"
      ]
    },
    {
      "cell_type": "markdown",
      "metadata": {
        "id": "WsvufVgV5iF7"
      },
      "source": [
        "* __age__: continuous.\n",
        "* __workclass__: Private, Self-emp-not-inc, Self-emp-inc, Federal-gov, Local-gov, State-gov, Without-pay, Never-worked.\n",
        "* __fnlwgt__: continuous.\n",
        "* __education__: Bachelors, Some-college, 11th, HS-grad, Prof-school, Assoc-acdm, Assoc-voc, 9th, 7th-8th, 12th, Masters, 1st-4th, 10th, Doctorate, 5th-6th, Preschool.\n",
        "* __education-num__: continuous.\n",
        "* __marital-status__: Married-civ-spouse, Divorced, Never-married, Separated, Widowed, Married-spouse-absent, Married-AF-spouse.\n",
        "* __occupation__: Tech-support, Craft-repair, Other-service, Sales, Exec-managerial, Prof-specialty, Handlers-cleaners, Machine-op-inspct, Adm-clerical, Farming-fishing, Transport-moving, Priv-house-serv, Protective-serv, Armed-Forces.\n",
        "* __relationship__: Wife, Own-child, Husband, Not-in-family, Other-relative, Unmarried.\n",
        "* __race__: White, Asian-Pac-Islander, Amer-Indian-Eskimo, Other, Black.\n",
        "* __sex__: Female, Male.\n",
        "* __capital-gain__: continuous.\n",
        "* __capital-loss__: continuous.\n",
        "* __hours-per-week__: continuous.\n",
        "* __native-country__: United-States, Cambodia, England, Puerto-Rico, Canada, Germany, Outlying-US(Guam-USVI-etc), India, Japan, Greece, South, China, Cuba, Iran, Honduras, Philippines, Italy, Poland, Jamaica, Vietnam, Mexico, Portugal, Ireland, France, Dominican-Republic, Laos, Ecuador, Taiwan, Haiti, Columbia, Hungary, Guatemala, Nicaragua, Scotland, Thailand, Yugoslavia, El-Salvador, Trinadad&Tobago, Peru, Hong, Holand-Netherlands."
      ]
    },
    {
      "cell_type": "markdown",
      "metadata": {
        "id": "GvpzaGFA5iF8"
      },
      "source": [
        "`head()` показывает первые 5 строк датафрейма.\n",
        "\n",
        "`tail()` - последние 5.\n",
        "\n",
        "`head(N)` показывает первые N строк датафрейма.\n",
        "\n",
        "`tail(N)` - последние N."
      ]
    },
    {
      "cell_type": "code",
      "execution_count": null,
      "metadata": {
        "ExecuteTime": {
          "end_time": "2018-06-22T11:03:16.944327Z",
          "start_time": "2018-06-22T11:03:16.882450Z"
        },
        "id": "wp4olOy65iF8"
      },
      "outputs": [],
      "source": [
        "df.head(3)"
      ]
    },
    {
      "cell_type": "markdown",
      "metadata": {
        "id": "8eUEmBwd5iF8"
      },
      "source": [
        "## Общее"
      ]
    },
    {
      "cell_type": "markdown",
      "metadata": {
        "id": "vmxBOKtI5iF9"
      },
      "source": [
        "Размер:"
      ]
    },
    {
      "cell_type": "code",
      "execution_count": null,
      "metadata": {
        "ExecuteTime": {
          "end_time": "2017-07-18T14:34:52.477827",
          "start_time": "2017-07-18T14:34:52.473160"
        },
        "id": "3vvWYaQi5iF9"
      },
      "outputs": [],
      "source": [
        "df.shape"
      ]
    },
    {
      "cell_type": "markdown",
      "metadata": {
        "id": "8F-bmhZd5iF9"
      },
      "source": [
        "Столбцы:"
      ]
    },
    {
      "cell_type": "code",
      "execution_count": null,
      "metadata": {
        "ExecuteTime": {
          "end_time": "2017-07-18T14:34:53.004876",
          "start_time": "2017-07-18T14:34:52.997890"
        },
        "id": "snl7ndGg5iF9"
      },
      "outputs": [],
      "source": [
        "df.columns"
      ]
    },
    {
      "cell_type": "markdown",
      "metadata": {
        "id": "F9Y8xNWG5iF9"
      },
      "source": [
        "Информация содержит данные о типе колонок, степени их заполненности (в нашем случае пропусков в данных нет), типе данных каждой из колонок, а также потреблении памяти:"
      ]
    },
    {
      "cell_type": "code",
      "execution_count": null,
      "metadata": {
        "ExecuteTime": {
          "end_time": "2017-07-18T14:34:53.577031",
          "start_time": "2017-07-18T14:34:53.547119"
        },
        "id": "CYpYcV805iF9"
      },
      "outputs": [],
      "source": [
        "df.info()"
      ]
    },
    {
      "cell_type": "markdown",
      "metadata": {
        "id": "D4If0EmQ5iF9"
      },
      "source": [
        "Метод `describe` содержит основные статистики по числовым столбцам данных:\n",
        "* количество\n",
        "* среднее\n",
        "* среднеквадратичное отклонение\n",
        "* минимум, максимум\n",
        "* медиану\n",
        "* первый и третий квартили"
      ]
    },
    {
      "cell_type": "code",
      "execution_count": null,
      "metadata": {
        "ExecuteTime": {
          "end_time": "2017-07-18T14:34:54.704408",
          "start_time": "2017-07-18T14:34:54.668130"
        },
        "id": "7ZvwJ1kV5iF-"
      },
      "outputs": [],
      "source": [
        "df.describe()"
      ]
    },
    {
      "cell_type": "markdown",
      "metadata": {
        "id": "Wrh6MMGK5iF-"
      },
      "source": [
        "Если хочется посмотреть и на нечисловые признаки, то нужно указать их тип в параметре `include`. Всего есть совсем немного основных:\n",
        "* `bool` - логический\n",
        "* `object` - общий нечисловой, в большинстве случаев это строки\n",
        "* `numeric` - числовой, включающий как числа с плавающей запятой, так и целые"
      ]
    },
    {
      "cell_type": "code",
      "execution_count": null,
      "metadata": {
        "ExecuteTime": {
          "end_time": "2017-07-18T14:34:56.199787",
          "start_time": "2017-07-18T14:34:56.074485"
        },
        "id": "skMVWZhG5iF-"
      },
      "outputs": [],
      "source": [
        "df.describe(include=['object', 'bool'])"
      ]
    },
    {
      "cell_type": "markdown",
      "metadata": {
        "ExecuteTime": {
          "end_time": "2017-05-14T13:22:09.347929",
          "start_time": "2017-05-14T13:22:09.333417"
        },
        "id": "qUDXdOru5iF-"
      },
      "source": [
        "Полезным методом является `value_counts()`, считающим распределение данных по категориям:"
      ]
    },
    {
      "cell_type": "code",
      "execution_count": null,
      "metadata": {
        "ExecuteTime": {
          "end_time": "2017-07-18T14:34:58.891272",
          "start_time": "2017-07-18T14:34:58.879318"
        },
        "id": "L_EkGgu35iF-"
      },
      "outputs": [],
      "source": [
        "df.education.value_counts()"
      ]
    },
    {
      "cell_type": "markdown",
      "metadata": {
        "ExecuteTime": {
          "end_time": "2017-05-14T13:22:40.773646",
          "start_time": "2017-05-14T13:22:40.769333"
        },
        "id": "GJZxe7Fd5iF-"
      },
      "source": [
        "Для отображения в долях существует флажок `normalize`:"
      ]
    },
    {
      "cell_type": "code",
      "execution_count": null,
      "metadata": {
        "ExecuteTime": {
          "end_time": "2017-07-18T14:35:01.425746",
          "start_time": "2017-07-18T14:35:01.413629"
        },
        "id": "YbhlfgZI5iF-"
      },
      "outputs": [],
      "source": [
        "df.education.value_counts(normalize=True)"
      ]
    },
    {
      "cell_type": "markdown",
      "metadata": {
        "id": "RhgKTIYJ5iF-"
      },
      "source": [
        "Можно строить простые диаграммы"
      ]
    },
    {
      "cell_type": "code",
      "execution_count": null,
      "metadata": {
        "ExecuteTime": {
          "end_time": "2017-07-18T14:35:02.999824",
          "start_time": "2017-07-18T14:35:02.677395"
        },
        "id": "g-PN3XtC5iF_"
      },
      "outputs": [],
      "source": [
        "df.education.value_counts().plot.bar(); #(kind='bar');"
      ]
    },
    {
      "cell_type": "markdown",
      "metadata": {
        "id": "Jw02O_jA5iF_"
      },
      "source": [
        "## Индексация и фильтры"
      ]
    },
    {
      "cell_type": "markdown",
      "metadata": {
        "ExecuteTime": {
          "end_time": "2017-05-14T13:35:25.120034",
          "start_time": "2017-05-14T13:35:25.114342"
        },
        "id": "uzQ19vbe5iF_"
      },
      "source": [
        "Весь датафрейм:"
      ]
    },
    {
      "cell_type": "code",
      "execution_count": null,
      "metadata": {
        "ExecuteTime": {
          "end_time": "2017-07-18T14:35:05.037890",
          "start_time": "2017-07-18T14:35:05.034722"
        },
        "id": "0wVHi3yk5iF_"
      },
      "outputs": [],
      "source": [
        "print(df)"
      ]
    },
    {
      "cell_type": "markdown",
      "metadata": {
        "id": "7HgojAEN5iF_"
      },
      "source": [
        "Только те, чей возраст меньше 25 лет, но больший 10:"
      ]
    },
    {
      "cell_type": "code",
      "execution_count": null,
      "metadata": {
        "ExecuteTime": {
          "end_time": "2017-07-18T14:35:40.388914",
          "start_time": "2017-07-18T14:35:40.382685"
        },
        "id": "0FWSgCS95iGD"
      },
      "outputs": [],
      "source": [
        "df[(df.age < 25) & (df.age > 10)]"
      ]
    },
    {
      "cell_type": "markdown",
      "metadata": {
        "id": "zGLiLzeT5iGE"
      },
      "source": [
        "Только те, кто получают больше 50 000$:"
      ]
    },
    {
      "cell_type": "code",
      "execution_count": null,
      "metadata": {
        "ExecuteTime": {
          "end_time": "2017-07-18T14:35:55.719580",
          "start_time": "2017-07-18T14:35:55.710507"
        },
        "id": "OOpoiKzZ5iGE"
      },
      "outputs": [],
      "source": [
        "df[df.salary == '>50K']"
      ]
    },
    {
      "cell_type": "code",
      "execution_count": null,
      "metadata": {
        "ExecuteTime": {
          "end_time": "2017-07-18T14:35:56.001011",
          "start_time": "2017-07-18T14:35:55.982691"
        },
        "scrolled": true,
        "id": "zGS878ro5iGE"
      },
      "outputs": [],
      "source": [
        "df[df.salary == '<=50K'].sex.value_counts(normalize=False)"
      ]
    },
    {
      "cell_type": "code",
      "execution_count": null,
      "metadata": {
        "ExecuteTime": {
          "end_time": "2017-07-18T14:35:56.290344",
          "start_time": "2017-07-18T14:35:56.269597"
        },
        "id": "SBJoV3wr5iGE"
      },
      "outputs": [],
      "source": [
        "df[df.salary == '>50K'].sex.value_counts(normalize=True)"
      ]
    },
    {
      "cell_type": "markdown",
      "metadata": {
        "id": "D3B3iJwd5iGE"
      },
      "source": [
        "## Сортировка"
      ]
    },
    {
      "cell_type": "code",
      "execution_count": null,
      "metadata": {
        "ExecuteTime": {
          "end_time": "2017-07-18T14:35:58.375089",
          "start_time": "2017-07-18T14:35:58.350856"
        },
        "id": "aLwvIqOF5iGE"
      },
      "outputs": [],
      "source": [
        "df.sort_values(by=['education'])"
      ]
    },
    {
      "cell_type": "markdown",
      "metadata": {
        "id": "HNgGpnEb5iGE"
      },
      "source": [
        "Отсортируем сначала по полу, внутри пола - по возрасту, но в обратном порядке"
      ]
    },
    {
      "cell_type": "code",
      "execution_count": null,
      "metadata": {
        "ExecuteTime": {
          "end_time": "2017-07-18T14:36:05.992059",
          "start_time": "2017-07-18T14:36:05.980369"
        },
        "id": "lgSCJj5C5iGF"
      },
      "outputs": [],
      "source": [
        "df.sort_values(by=['sex', 'age'], ascending=[True, False])"
      ]
    },
    {
      "cell_type": "markdown",
      "metadata": {
        "id": "QtwtbayH5iGF"
      },
      "source": [
        "## Применение функций"
      ]
    },
    {
      "cell_type": "markdown",
      "metadata": {
        "id": "08SfKiAe5iGF"
      },
      "source": [
        "Применить функцию к каждому столбцу или каждой строке можно с помощью `apply`:"
      ]
    },
    {
      "cell_type": "code",
      "execution_count": null,
      "metadata": {
        "ExecuteTime": {
          "end_time": "2017-07-18T14:36:34.986381",
          "start_time": "2017-07-18T14:36:34.978370"
        },
        "id": "4_cBqhpk5iGF"
      },
      "outputs": [],
      "source": [
        "t = pd.DataFrame(data = {'a': [1,2,3], 'b': [4,5,6]})\n",
        "t"
      ]
    },
    {
      "cell_type": "code",
      "execution_count": null,
      "metadata": {
        "ExecuteTime": {
          "end_time": "2017-07-18T14:36:42.624850",
          "start_time": "2017-07-18T14:36:42.620662"
        },
        "id": "3OyC9VTl5iGF"
      },
      "outputs": [],
      "source": [
        "t['c'] = t.apply(lambda row: row['a'] + row['b'], axis=1) # построчно"
      ]
    },
    {
      "cell_type": "code",
      "execution_count": null,
      "metadata": {
        "ExecuteTime": {
          "end_time": "2017-07-18T14:36:44.009929",
          "start_time": "2017-07-18T14:36:44.002577"
        },
        "id": "24ykYNOf5iGF"
      },
      "outputs": [],
      "source": [
        "t"
      ]
    },
    {
      "cell_type": "markdown",
      "metadata": {
        "id": "ro98bg4l5iGF"
      },
      "source": [
        "Применение функции к каждой __ячейке__ реализовывается с помощью `map`:"
      ]
    },
    {
      "cell_type": "code",
      "execution_count": null,
      "metadata": {
        "ExecuteTime": {
          "end_time": "2017-07-18T14:36:48.825233",
          "start_time": "2017-07-18T14:36:48.817222"
        },
        "id": "CfEWX4hV5iGG"
      },
      "outputs": [],
      "source": [
        "renaming = {'>50K': 1, '<=50K': 0}\n",
        "df.salary = df.salary.map(renaming)"
      ]
    },
    {
      "cell_type": "code",
      "execution_count": null,
      "metadata": {
        "ExecuteTime": {
          "end_time": "2017-07-18T14:36:49.372850",
          "start_time": "2017-07-18T14:36:49.366600"
        },
        "id": "aug_jvAc5iGG"
      },
      "outputs": [],
      "source": [
        "df.salary.value_counts()"
      ]
    },
    {
      "cell_type": "code",
      "execution_count": null,
      "metadata": {
        "ExecuteTime": {
          "end_time": "2017-07-18T14:36:51.212923",
          "start_time": "2017-07-18T14:36:51.203576"
        },
        "id": "ZfN4h-lM5iGG"
      },
      "outputs": [],
      "source": [
        "renaming = {1:'> 50K', 0: '<= 50K'}\n",
        "df.salary = df.salary.map(renaming)"
      ]
    },
    {
      "cell_type": "markdown",
      "metadata": {
        "id": "hFV2iVW45iGG"
      },
      "source": [
        "__apply__ к нескольким столбцам сразу называется __applymap__:"
      ]
    },
    {
      "cell_type": "code",
      "execution_count": null,
      "metadata": {
        "ExecuteTime": {
          "end_time": "2017-07-18T14:37:27.760174",
          "start_time": "2017-07-18T14:37:27.727952"
        },
        "id": "VdXg4xb95iGG"
      },
      "outputs": [],
      "source": [
        "df['sex'] = df['sex'].apply(lambda x: x.lower())\n",
        "df['relationship'] = df['relationship'].apply(lambda x: x.lower())"
      ]
    },
    {
      "cell_type": "code",
      "execution_count": null,
      "metadata": {
        "ExecuteTime": {
          "end_time": "2017-07-18T14:37:28.009172",
          "start_time": "2017-07-18T14:37:27.927060"
        },
        "id": "lILR5KeZ5iGG"
      },
      "outputs": [],
      "source": [
        "# same as above:\n",
        "cols = ['sex', 'relationship']\n",
        "df[cols] = df[cols].applymap(lambda x: x.lower())"
      ]
    },
    {
      "cell_type": "markdown",
      "metadata": {
        "id": "fDoj-s0y5iGH"
      },
      "source": [
        "У строковых столбцов есть хитрое поле __str__, которое возвращает наружу как будто строку (синтаксис тот же), но применяет к каждому элементу столбца.\n",
        "\n",
        "При больших объемах данных это будет быстрее, потому что `.str` под капотом векторизует операции со строками. Для дат можно использовать `.dt`."
      ]
    },
    {
      "cell_type": "code",
      "execution_count": null,
      "metadata": {
        "ExecuteTime": {
          "end_time": "2017-07-18T14:38:16.931878",
          "start_time": "2017-07-18T14:38:16.915864"
        },
        "id": "DWujFtQB5iGH"
      },
      "outputs": [],
      "source": [
        "df.sex.apply(lambda x: x.upper());"
      ]
    },
    {
      "cell_type": "code",
      "execution_count": null,
      "metadata": {
        "ExecuteTime": {
          "end_time": "2017-07-18T14:38:33.278060",
          "start_time": "2017-07-18T14:38:33.261524"
        },
        "id": "C51fSS915iGH"
      },
      "outputs": [],
      "source": [
        "# same as above\n",
        "df.sex.str.upper();"
      ]
    },
    {
      "cell_type": "markdown",
      "metadata": {
        "id": "rx-MuVc25iGH"
      },
      "source": [
        "## Дубликаты"
      ]
    },
    {
      "cell_type": "code",
      "execution_count": null,
      "metadata": {
        "ExecuteTime": {
          "end_time": "2017-07-18T14:38:38.794641",
          "start_time": "2017-07-18T14:38:38.783166"
        },
        "id": "ZzqZ5rC-5iGH"
      },
      "outputs": [],
      "source": [
        "q = pd.DataFrame(data={'a': [1,2,3,1,1], 'b': [1,2,3,2,1], 'c':[10,20,30,40,40]})\n",
        "q"
      ]
    },
    {
      "cell_type": "code",
      "execution_count": null,
      "metadata": {
        "ExecuteTime": {
          "end_time": "2017-07-18T14:38:40.967404",
          "start_time": "2017-07-18T14:38:40.961095"
        },
        "id": "Z_9QUuYm5iGH"
      },
      "outputs": [],
      "source": [
        "q.duplicated(['a'])"
      ]
    },
    {
      "cell_type": "code",
      "execution_count": null,
      "metadata": {
        "ExecuteTime": {
          "end_time": "2017-07-18T14:38:57.771235",
          "start_time": "2017-07-18T14:38:57.765355"
        },
        "id": "IUiNC3aU5iGH"
      },
      "outputs": [],
      "source": [
        "q.duplicated(['a', 'b']) # - уже оценивает кортежи значений из нескольких колонок"
      ]
    },
    {
      "cell_type": "code",
      "execution_count": null,
      "metadata": {
        "ExecuteTime": {
          "end_time": "2017-07-18T14:38:59.235228",
          "start_time": "2017-07-18T14:38:59.225541"
        },
        "id": "Bgx1u1vG5iGI"
      },
      "outputs": [],
      "source": [
        "q.drop_duplicates(subset=['a'])"
      ]
    },
    {
      "cell_type": "code",
      "execution_count": null,
      "metadata": {
        "ExecuteTime": {
          "end_time": "2017-07-18T14:39:02.006730",
          "start_time": "2017-07-18T14:39:01.996516"
        },
        "id": "-abw7FTN5iGI"
      },
      "outputs": [],
      "source": [
        "q.drop_duplicates(subset=['a', 'b'])"
      ]
    },
    {
      "cell_type": "markdown",
      "metadata": {
        "id": "npP1ZDmj5iGI"
      },
      "source": [
        "## Группировка"
      ]
    },
    {
      "cell_type": "code",
      "execution_count": null,
      "metadata": {
        "ExecuteTime": {
          "end_time": "2017-07-18T14:39:05.406107",
          "start_time": "2017-07-18T14:39:05.402838"
        },
        "id": "Hrjg08m35iGI"
      },
      "outputs": [],
      "source": [
        "df.groupby(['salary']);"
      ]
    },
    {
      "cell_type": "markdown",
      "metadata": {
        "id": "jrMRFfNI5iGI"
      },
      "source": [
        "__Важно__: groupby-объекты - не копии частей датафрейма!"
      ]
    },
    {
      "cell_type": "code",
      "execution_count": null,
      "metadata": {
        "ExecuteTime": {
          "end_time": "2017-07-18T14:39:07.370243",
          "start_time": "2017-07-18T14:39:07.085856"
        },
        "id": "QGGR3FGu5iGI"
      },
      "outputs": [],
      "source": [
        "df.groupby(['salary']).describe(include=['object', 'bool'])"
      ]
    },
    {
      "cell_type": "code",
      "execution_count": null,
      "metadata": {
        "ExecuteTime": {
          "end_time": "2017-07-18T14:39:09.663826",
          "start_time": "2017-07-18T14:39:09.658305"
        },
        "id": "sc9Kx0HC5iGI"
      },
      "outputs": [],
      "source": [
        "df.groupby('salary')"
      ]
    },
    {
      "cell_type": "code",
      "execution_count": null,
      "metadata": {
        "ExecuteTime": {
          "end_time": "2017-07-18T14:39:11.415229",
          "start_time": "2017-07-18T14:39:11.402367"
        },
        "id": "DjtayS9I5iGJ"
      },
      "outputs": [],
      "source": [
        "df.sex.value_counts()"
      ]
    },
    {
      "cell_type": "code",
      "execution_count": null,
      "metadata": {
        "ExecuteTime": {
          "end_time": "2017-07-18T14:39:12.953141",
          "start_time": "2017-07-18T14:39:12.704291"
        },
        "id": "-pEDoG1D5iGJ"
      },
      "outputs": [],
      "source": [
        "df.groupby('salary').sex.value_counts().plot.bar();"
      ]
    },
    {
      "cell_type": "markdown",
      "metadata": {
        "id": "A-FNXure5iGJ"
      },
      "source": [
        "## Таблицы сопряженности и melt"
      ]
    },
    {
      "cell_type": "markdown",
      "metadata": {
        "ExecuteTime": {
          "end_time": "2017-05-14T15:50:16.958656",
          "start_time": "2017-05-14T15:50:16.955760"
        },
        "id": "4w5aIfIc5iGJ"
      },
      "source": [
        "### Таблицы сопряженности"
      ]
    },
    {
      "cell_type": "code",
      "execution_count": null,
      "metadata": {
        "ExecuteTime": {
          "end_time": "2017-07-18T14:45:10.866028",
          "start_time": "2017-07-18T14:45:10.573951"
        },
        "id": "zPTj4TPG5iGJ"
      },
      "outputs": [],
      "source": [
        "pd.crosstab(df.salary, df.sex).plot(kind='bar');"
      ]
    },
    {
      "cell_type": "code",
      "execution_count": null,
      "metadata": {
        "ExecuteTime": {
          "end_time": "2017-07-18T14:45:10.890460",
          "start_time": "2017-07-18T14:45:10.867905"
        },
        "id": "HtSv4yO65iGJ"
      },
      "outputs": [],
      "source": [
        "pd.crosstab(df.salary, df.sex, normalize=True)"
      ]
    },
    {
      "cell_type": "code",
      "execution_count": null,
      "metadata": {
        "ExecuteTime": {
          "end_time": "2017-07-18T14:45:11.364782",
          "start_time": "2017-07-18T14:45:10.914105"
        },
        "scrolled": true,
        "id": "kzM2BmXc5iGJ"
      },
      "outputs": [],
      "source": [
        "pd.crosstab(df.salary, df['marital-status'], normalize=True).plot.bar();"
      ]
    },
    {
      "cell_type": "markdown",
      "metadata": {
        "id": "MlCcM0af5iGJ"
      },
      "source": [
        "### Melt - превращение столбцов в строки"
      ]
    },
    {
      "cell_type": "code",
      "execution_count": null,
      "metadata": {
        "ExecuteTime": {
          "end_time": "2017-07-18T14:45:13.860322",
          "start_time": "2017-07-18T14:45:13.849796"
        },
        "id": "2EcKjvs75iGK"
      },
      "outputs": [],
      "source": [
        "t = pd.DataFrame(data={'name': ['PC', 'PlayStation4'],\n",
        "                   '1W-2014': [100, 300],\n",
        "                   '2W-2014': [150, 350]})\n",
        "t"
      ]
    },
    {
      "cell_type": "code",
      "execution_count": null,
      "metadata": {
        "ExecuteTime": {
          "end_time": "2017-07-18T14:45:14.078250",
          "start_time": "2017-07-18T14:45:14.068143"
        },
        "id": "0iZl0SPj5iGK"
      },
      "outputs": [],
      "source": [
        "t2 = pd.melt(t, id_vars=['name'], value_name='cost', var_name='timestamp')\n",
        "t2"
      ]
    },
    {
      "cell_type": "markdown",
      "metadata": {
        "id": "SF5PocRF5iGK"
      },
      "source": [
        "## Изменение таблиц"
      ]
    },
    {
      "cell_type": "code",
      "execution_count": null,
      "metadata": {
        "ExecuteTime": {
          "end_time": "2017-07-18T14:45:18.697565",
          "start_time": "2017-07-18T14:45:18.677824"
        },
        "id": "Ygmhf36m5iGK"
      },
      "outputs": [],
      "source": [
        "df.head(2)"
      ]
    },
    {
      "cell_type": "markdown",
      "metadata": {
        "id": "b0A9zy1x5iGK"
      },
      "source": [
        "### Добавление нового столбца"
      ]
    },
    {
      "cell_type": "code",
      "execution_count": null,
      "metadata": {
        "ExecuteTime": {
          "end_time": "2017-07-18T14:45:21.278023",
          "start_time": "2017-07-18T14:45:21.274271"
        },
        "id": "smfVhRN_5iGK"
      },
      "outputs": [],
      "source": [
        "df['working_days'] = df['hours-per-week'] / 8.0"
      ]
    },
    {
      "cell_type": "code",
      "execution_count": null,
      "metadata": {
        "ExecuteTime": {
          "end_time": "2017-07-18T14:45:24.704265",
          "start_time": "2017-07-18T14:45:24.683008"
        },
        "id": "9DYhlzQj5iGK"
      },
      "outputs": [],
      "source": [
        "df.head(2)"
      ]
    },
    {
      "cell_type": "code",
      "execution_count": null,
      "metadata": {
        "ExecuteTime": {
          "end_time": "2017-07-18T14:45:26.901403",
          "start_time": "2017-07-18T14:45:26.897836"
        },
        "id": "tQTEUZqT5iGL"
      },
      "outputs": [],
      "source": [
        "df['constant'] = 1"
      ]
    },
    {
      "cell_type": "code",
      "execution_count": null,
      "metadata": {
        "ExecuteTime": {
          "end_time": "2017-07-18T14:45:27.622228",
          "start_time": "2017-07-18T14:45:27.613812"
        },
        "id": "Z_Qt_Pov5iGL"
      },
      "outputs": [],
      "source": [
        "df = df.assign(anotherConstant = lambda dataframe: dataframe.constant*2)"
      ]
    },
    {
      "cell_type": "code",
      "execution_count": null,
      "metadata": {
        "id": "gqRCV3q25iGL"
      },
      "outputs": [],
      "source": [
        "df.head(2)"
      ]
    },
    {
      "cell_type": "markdown",
      "metadata": {
        "id": "g-7XsxEf5iGL"
      },
      "source": [
        "### Удаление строк и столбцов"
      ]
    },
    {
      "cell_type": "code",
      "execution_count": null,
      "metadata": {
        "ExecuteTime": {
          "end_time": "2017-07-18T14:45:31.073715",
          "start_time": "2017-07-18T14:45:31.062933"
        },
        "id": "7_HMaa145iGL"
      },
      "outputs": [],
      "source": [
        "df.drop(['constant', 'anotherConstant'], axis=1, inplace=True)"
      ]
    },
    {
      "cell_type": "markdown",
      "metadata": {
        "id": "Xs6bSVSQ5iGL"
      },
      "source": [
        "__NB__: У большинства операторов pandas есть флажок `inplace`. Если он выставлен в `False` (по умолчанию именно так), то изменения, например, как `drop` в примере выше, не будут изменять таблицу, а вернут измененную копию."
      ]
    },
    {
      "cell_type": "code",
      "execution_count": null,
      "metadata": {
        "ExecuteTime": {
          "end_time": "2017-07-18T14:45:35.256137",
          "start_time": "2017-07-18T14:45:35.232619"
        },
        "id": "918odebg5iGL"
      },
      "outputs": [],
      "source": [
        "df.drop([1,2]).head(3) # => удаляет строки"
      ]
    },
    {
      "cell_type": "markdown",
      "metadata": {
        "id": "EQNdyp6j5iGL"
      },
      "source": [
        "### loc, iloc"
      ]
    },
    {
      "cell_type": "code",
      "execution_count": null,
      "metadata": {
        "ExecuteTime": {
          "end_time": "2017-07-18T14:47:58.938071",
          "start_time": "2017-07-18T14:47:58.932642"
        },
        "id": "5V0mp6Cf5iGM"
      },
      "outputs": [],
      "source": [
        "df.loc[0, 'workclass'] # получение конкретной ячейки по индексу и названию столбца"
      ]
    },
    {
      "cell_type": "code",
      "execution_count": null,
      "metadata": {
        "ExecuteTime": {
          "end_time": "2017-07-18T14:48:21.018773",
          "start_time": "2017-07-18T14:48:21.013115"
        },
        "id": "YvEcjQri5iGM"
      },
      "outputs": [],
      "source": [
        "df.iloc[0, 1] # получение конкретной ячейки по номеру строки и номеру столбца, вне зависимости от индексов"
      ]
    },
    {
      "cell_type": "markdown",
      "metadata": {
        "id": "2ptyiAzi5iGM"
      },
      "source": [
        "__Важно__: можно и получать строки по маскам:"
      ]
    },
    {
      "cell_type": "code",
      "execution_count": null,
      "metadata": {
        "ExecuteTime": {
          "end_time": "2017-07-18T14:49:54.773969",
          "start_time": "2017-07-18T14:49:54.766869"
        },
        "id": "u4lTb_k_5iGM"
      },
      "outputs": [],
      "source": [
        "df.loc[df.age % 5 == 0, 'workclass'].head()"
      ]
    },
    {
      "cell_type": "markdown",
      "metadata": {
        "id": "l0dpsXjK5iGM"
      },
      "source": [
        "__Важно__: Основываясь на этом, можно присваивать другим значениям:"
      ]
    },
    {
      "cell_type": "code",
      "execution_count": null,
      "metadata": {
        "ExecuteTime": {
          "end_time": "2017-07-18T14:50:43.742633",
          "start_time": "2017-07-18T14:50:43.736127"
        },
        "id": "ft0R6U1Y5iGM"
      },
      "outputs": [],
      "source": [
        "df.loc[df.age % 2 == 0, 'workclass'] = 'ЧЕТНЫЙ'"
      ]
    },
    {
      "cell_type": "code",
      "execution_count": null,
      "metadata": {
        "ExecuteTime": {
          "end_time": "2017-07-18T14:50:46.490544",
          "start_time": "2017-07-18T14:50:46.486057"
        },
        "id": "yKuZ9Aoa5iGM"
      },
      "outputs": [],
      "source": [
        "df.loc[:5, 'education'] = 'NO EDUCATION'"
      ]
    },
    {
      "cell_type": "code",
      "execution_count": null,
      "metadata": {
        "ExecuteTime": {
          "end_time": "2017-07-18T14:50:48.079145",
          "start_time": "2017-07-18T14:50:48.059804"
        },
        "id": "NLShvf1F5iGN"
      },
      "outputs": [],
      "source": [
        "df.head(7)"
      ]
    },
    {
      "cell_type": "markdown",
      "metadata": {
        "id": "1Nccudhf5iGN"
      },
      "source": [
        "### Переименование столбцов"
      ]
    },
    {
      "cell_type": "code",
      "execution_count": null,
      "metadata": {
        "ExecuteTime": {
          "end_time": "2017-07-18T14:50:58.428510",
          "start_time": "2017-07-18T14:50:58.424638"
        },
        "id": "fhKG6GJ05iGN"
      },
      "outputs": [],
      "source": [
        "df.columns = [c.upper() for c in df.columns]"
      ]
    },
    {
      "cell_type": "code",
      "execution_count": null,
      "metadata": {
        "ExecuteTime": {
          "end_time": "2017-07-18T14:50:59.129465",
          "start_time": "2017-07-18T14:50:59.112055"
        },
        "id": "Yc6bk2F-5iGN"
      },
      "outputs": [],
      "source": [
        "df.head(1)"
      ]
    },
    {
      "cell_type": "code",
      "execution_count": null,
      "metadata": {
        "ExecuteTime": {
          "end_time": "2017-07-18T14:51:11.280083",
          "start_time": "2017-07-18T14:51:11.276685"
        },
        "id": "ZRDaeNel5iGN"
      },
      "outputs": [],
      "source": [
        "df.columns = [c.lower() for c in df.columns]"
      ]
    },
    {
      "cell_type": "code",
      "execution_count": null,
      "metadata": {
        "ExecuteTime": {
          "end_time": "2017-07-18T14:51:11.574143",
          "start_time": "2017-07-18T14:51:11.558704"
        },
        "id": "7ZyCShFU5iGN"
      },
      "outputs": [],
      "source": [
        "df = df.rename(columns={'marital-status': 'marital_status'})\n",
        "                        # словарь старое-новое значение"
      ]
    },
    {
      "cell_type": "markdown",
      "metadata": {
        "ExecuteTime": {
          "end_time": "2017-05-18T12:24:09.500495",
          "start_time": "2017-05-18T12:24:09.497359"
        },
        "id": "g19kOnhB5iGN"
      },
      "source": [
        "## Работа с пропущенными (NaN) значениями"
      ]
    },
    {
      "cell_type": "code",
      "execution_count": null,
      "metadata": {
        "ExecuteTime": {
          "end_time": "2017-07-18T14:51:14.019521",
          "start_time": "2017-07-18T14:51:14.003646"
        },
        "id": "K_HgP_7a5iGN"
      },
      "outputs": [],
      "source": [
        "test = pd.DataFrame(data={'name': ['John', 'Bill', 'Jennifer', 'Max'],\n",
        "                          'salary': [90, np.nan, 95, 130],\n",
        "                          'age': [27, 30, np.nan, np.nan],\n",
        "                          'status': [np.nan, 'married', np.nan, 'married']\n",
        "                         })\n",
        "test = test[['name', 'age', 'salary', 'status']]\n",
        "test"
      ]
    },
    {
      "cell_type": "markdown",
      "metadata": {
        "id": "B65ig7PX5iGO"
      },
      "source": [
        "### Отображение"
      ]
    },
    {
      "cell_type": "code",
      "execution_count": null,
      "metadata": {
        "ExecuteTime": {
          "end_time": "2017-07-18T14:51:14.847525",
          "start_time": "2017-07-18T14:51:14.837090"
        },
        "id": "Rvw-nU__5iGO"
      },
      "outputs": [],
      "source": [
        "test[test['age'].isnull()]"
      ]
    },
    {
      "cell_type": "code",
      "execution_count": null,
      "metadata": {
        "ExecuteTime": {
          "end_time": "2017-07-18T14:51:15.950701",
          "start_time": "2017-07-18T14:51:15.940498"
        },
        "id": "fay1d5vd5iGO"
      },
      "outputs": [],
      "source": [
        "test[test['age'].notnull()]"
      ]
    },
    {
      "cell_type": "code",
      "execution_count": null,
      "metadata": {
        "ExecuteTime": {
          "end_time": "2017-07-18T14:51:21.019491",
          "start_time": "2017-07-18T14:51:20.997432"
        },
        "id": "q3G3K4445iGO"
      },
      "outputs": [],
      "source": [
        "test[test.isnull().any(axis=1)] # !"
      ]
    },
    {
      "cell_type": "code",
      "execution_count": null,
      "metadata": {
        "ExecuteTime": {
          "end_time": "2017-07-18T14:51:22.941954",
          "start_time": "2017-07-18T14:51:22.933447"
        },
        "id": "9ei0P2tJ5iGO"
      },
      "outputs": [],
      "source": [
        "test[~test.isnull().any(axis=1)]"
      ]
    },
    {
      "cell_type": "markdown",
      "metadata": {
        "id": "Q3W62_5A5iGO"
      },
      "source": [
        "### Заполнение"
      ]
    },
    {
      "cell_type": "markdown",
      "metadata": {
        "id": "z31ONmX05iGO"
      },
      "source": [
        "Прежде всего, можно заполнить некоторым константным значением:"
      ]
    },
    {
      "cell_type": "code",
      "execution_count": null,
      "metadata": {
        "ExecuteTime": {
          "end_time": "2017-07-18T14:51:24.678877",
          "start_time": "2017-07-18T14:51:24.667186"
        },
        "id": "--sYDvx-5iGO"
      },
      "outputs": [],
      "source": [
        "dashtest = test.fillna('-')\n",
        "dashtest"
      ]
    },
    {
      "cell_type": "markdown",
      "metadata": {
        "id": "jbAj2JYz5iGO"
      },
      "source": [
        "Важно заметить, что теперь слобцы возраста и зарплаты более не числовые:"
      ]
    },
    {
      "cell_type": "code",
      "execution_count": null,
      "metadata": {
        "ExecuteTime": {
          "end_time": "2017-07-18T14:51:26.226936",
          "start_time": "2017-07-18T14:51:26.220719"
        },
        "id": "GqM8-PDv5iGP"
      },
      "outputs": [],
      "source": [
        "print(test.dtypes, '\\n\\n', dashtest.dtypes)"
      ]
    },
    {
      "cell_type": "code",
      "execution_count": null,
      "metadata": {
        "ExecuteTime": {
          "end_time": "2017-07-18T14:51:26.935763",
          "start_time": "2017-07-18T14:51:26.923336"
        },
        "id": "rM3AmMdg5iGP"
      },
      "outputs": [],
      "source": [
        "test.fillna(method='ffill')"
      ]
    },
    {
      "cell_type": "code",
      "execution_count": null,
      "metadata": {
        "ExecuteTime": {
          "end_time": "2017-07-18T14:51:27.732023",
          "start_time": "2017-07-18T14:51:27.717061"
        },
        "id": "7UXToPdq5iGP"
      },
      "outputs": [],
      "source": [
        "test.fillna(method='bfill')"
      ]
    },
    {
      "cell_type": "code",
      "execution_count": null,
      "metadata": {
        "ExecuteTime": {
          "end_time": "2017-07-18T14:51:31.324038",
          "start_time": "2017-07-18T14:51:31.311470"
        },
        "id": "eOTbwS7y5iGP"
      },
      "outputs": [],
      "source": [
        "test.fillna(method='ffill').fillna(method='bfill')"
      ]
    },
    {
      "cell_type": "code",
      "execution_count": null,
      "metadata": {
        "ExecuteTime": {
          "end_time": "2017-07-18T14:51:39.449343",
          "start_time": "2017-07-18T14:51:39.384666"
        },
        "id": "o-UtjKGU5iGP"
      },
      "outputs": [],
      "source": [
        "test['salary'] = test[['salary']].fillna(test.salary.median())\n",
        "test"
      ]
    },
    {
      "cell_type": "code",
      "execution_count": null,
      "metadata": {
        "ExecuteTime": {
          "end_time": "2017-07-18T14:51:44.824769",
          "start_time": "2017-07-18T14:51:44.809905"
        },
        "id": "_Lx73Uu55iGP"
      },
      "outputs": [],
      "source": [
        "test['age'] = test[['salary']].fillna(25)\n",
        "test['status'] = test[['status']].fillna(test.status.mode()[0])\n",
        "test"
      ]
    },
    {
      "cell_type": "markdown",
      "metadata": {
        "id": "3AdZo6z45iGP"
      },
      "source": [
        "## Краткий конспект\n",
        "\n",
        "- df.shape - размер\n",
        "- df.head(N), df.tail(N), - просмотр\n",
        "- df[массив имен колонок] - часть (slice) датафрейма\n",
        "- df['имя колонки'] - одна колонка (можно и через точку: df.имя_колонки)\n",
        "- df.unique, df.nunique - просмотр уникальных значений и их количества\n",
        "- df.value_counts - сколько разных значений в колонке\n",
        "- df.имя колонки.apply - применяет функцию к значениям в столбце\n",
        "- df.fillna - заполняет NaN\n",
        "- df.dropna - удаляет строки/столбцы с NaN\n",
        "- df.duplicated - показывает строки, являющиеся дупликатами других\n",
        "- df.drop_duplicates - удаляет строки-дупликаты\n",
        "- df[df.isnull().any(axis=1)] - вывести строки, содержащие NaN\n",
        "- df[df.имя колонки.isnull().any(axis=1)] - вывести только те строки, где в указанной колонке есть пропуски\n",
        "- df.groupby - группировка по некоторому признаку"
      ]
    },
    {
      "cell_type": "markdown",
      "metadata": {
        "id": "LbTjgXTI82Ey"
      },
      "source": [
        "## Задание"
      ]
    },
    {
      "cell_type": "markdown",
      "metadata": {
        "id": "BnBpD-KN82Ez"
      },
      "source": [
        "**1.** Загрузите csv-файл `https://raw.githubusercontent.com/yakushinav/omo/main/data/fishing.csv` в переменную fishing_data. Описание данных см. [здесь](https://github.com/yakushinav/journ/blob/main/fishing.md)."
      ]
    },
    {
      "cell_type": "code",
      "execution_count": 4,
      "metadata": {
        "colab": {
          "base_uri": "https://localhost:8080/"
        },
        "id": "40fSJUxQ82E0",
        "outputId": "662497c3-5203-4a3b-b1f9-90679852f990"
      },
      "outputs": [
        {
          "output_type": "stream",
          "name": "stdout",
          "text": [
            "   Unnamed: 0     mode    price   catch   pbeach    ppier    pboat  pcharter  \\\n",
            "0           1  charter  182.930  0.5391  157.930  157.930  157.930   182.930   \n",
            "1           2  charter   34.534  0.4671   15.114   15.114   10.534    34.534   \n",
            "2           3     boat   24.334  0.2413  161.874  161.874   24.334    59.334   \n",
            "3           4     pier   15.134  0.0789   15.134   15.134   55.930    84.930   \n",
            "4           5     boat   41.514  0.1082  106.930  106.930   41.514    71.014   \n",
            "\n",
            "   cbeach   cpier   cboat  ccharter     income  \n",
            "0  0.0678  0.0503  0.2601    0.5391  7083.3317  \n",
            "1  0.1049  0.0451  0.1574    0.4671  1249.9998  \n",
            "2  0.5333  0.4522  0.2413    1.0266  3749.9999  \n",
            "3  0.0678  0.0789  0.1643    0.5391  2083.3332  \n",
            "4  0.0678  0.0503  0.1082    0.3240  4583.3320  \n",
            "<class 'pandas.core.frame.DataFrame'>\n",
            "RangeIndex: 1182 entries, 0 to 1181\n",
            "Data columns (total 13 columns):\n",
            " #   Column      Non-Null Count  Dtype  \n",
            "---  ------      --------------  -----  \n",
            " 0   Unnamed: 0  1182 non-null   int64  \n",
            " 1   mode        1182 non-null   object \n",
            " 2   price       1182 non-null   float64\n",
            " 3   catch       1182 non-null   float64\n",
            " 4   pbeach      1182 non-null   float64\n",
            " 5   ppier       1182 non-null   float64\n",
            " 6   pboat       1182 non-null   float64\n",
            " 7   pcharter    1182 non-null   float64\n",
            " 8   cbeach      1182 non-null   float64\n",
            " 9   cpier       1182 non-null   float64\n",
            " 10  cboat       1182 non-null   float64\n",
            " 11  ccharter    1182 non-null   float64\n",
            " 12  income      1182 non-null   float64\n",
            "dtypes: float64(11), int64(1), object(1)\n",
            "memory usage: 120.2+ KB\n",
            "None\n"
          ]
        }
      ],
      "source": [
        "### YOUR CODE HERE ###\n",
        "import pandas as pd\n",
        "url = 'https://raw.githubusercontent.com/yakushinav/omo/main/data/fishing.csv'\n",
        "try:\n",
        "    fishing_data = pd.read_csv(url)\n",
        "    print(fishing_data.head())\n",
        "    print(fishing_data.info())\n",
        "except Exception as e:\n",
        "    print(f\"Ошибка: {e}\")\n",
        "\n"
      ]
    },
    {
      "cell_type": "markdown",
      "metadata": {
        "id": "zHiQ10W382E1"
      },
      "source": [
        "**2.** Выведите описательные статистики для всех числовых (integer, float) переменных в датафрейме."
      ]
    },
    {
      "cell_type": "code",
      "execution_count": 6,
      "metadata": {
        "colab": {
          "base_uri": "https://localhost:8080/"
        },
        "id": "xww0C-0e82E2",
        "outputId": "e227a556-685e-4447-95d0-e88759717dcf"
      },
      "outputs": [
        {
          "output_type": "stream",
          "name": "stdout",
          "text": [
            "        Unnamed: 0        price        catch       pbeach        ppier  \\\n",
            "count  1182.000000  1182.000000  1182.000000  1182.000000  1182.000000   \n",
            "mean    591.500000    52.081975     0.389368   103.422005   103.422005   \n",
            "std     341.358316    53.829970     0.560596   103.641042   103.641042   \n",
            "min       1.000000     1.290000     0.000200     1.290000     1.290000   \n",
            "25%     296.250000    15.870000     0.036100    26.656500    26.656500   \n",
            "50%     591.500000    37.896000     0.164300    74.628000    74.628000   \n",
            "75%     886.750000    67.513000     0.533300   144.144000   144.144000   \n",
            "max    1182.000000   666.110000     2.310100   843.186000   843.186000   \n",
            "\n",
            "             pboat     pcharter       cbeach        cpier        cboat  \\\n",
            "count  1182.000000  1182.000000  1182.000000  1182.000000  1182.000000   \n",
            "mean     55.256570    84.379244     0.241011     0.162224     0.171215   \n",
            "std      62.713444    63.544650     0.190752     0.160390     0.209789   \n",
            "min       2.290000    27.290000     0.067800     0.001400     0.000200   \n",
            "25%      13.122000    42.896000     0.067800     0.050300     0.023300   \n",
            "50%      33.534000    61.607000     0.253700     0.078900     0.089700   \n",
            "75%      72.402000   102.774000     0.533300     0.149800     0.241300   \n",
            "max     666.110000   691.110000     0.533300     0.452200     0.736900   \n",
            "\n",
            "          ccharter        income  \n",
            "count  1182.000000   1182.000000  \n",
            "mean      0.629368   4099.337054  \n",
            "std       0.706114   2461.964060  \n",
            "min       0.002100    416.666680  \n",
            "25%       0.021900   2083.333200  \n",
            "50%       0.421600   3749.999900  \n",
            "75%       1.026600   5416.666700  \n",
            "max       2.310100  12499.998000  \n"
          ]
        }
      ],
      "source": [
        "### YOUR CODE HERE ###\n",
        "import pandas as pd\n",
        "url = 'https://raw.githubusercontent.com/yakushinav/omo/main/data/fishing.csv'\n",
        "try:\n",
        "    fishing_data = pd.read_csv(url)\n",
        "    numbers = fishing_data.select_dtypes(include=['number'])\n",
        "    print(numbers.describe())\n",
        "except Exception as e:\n",
        "    print(f\"Ошибка: {e}\")\n"
      ]
    },
    {
      "cell_type": "markdown",
      "metadata": {
        "id": "axcZ6fS882E2"
      },
      "source": [
        "**3.** Выберите из таблицы только строки, которые соответствуют респондентам, которые выбрали рыбалку на берегу (`beach`)."
      ]
    },
    {
      "cell_type": "code",
      "execution_count": 7,
      "metadata": {
        "id": "JvujsNy082E3",
        "colab": {
          "base_uri": "https://localhost:8080/"
        },
        "outputId": "8ea34096-bf72-4a0b-b564-8387ef3ec41d"
      },
      "outputs": [
        {
          "output_type": "stream",
          "name": "stdout",
          "text": [
            "Респонденты, которые выбрали рыбалку на берегу: 134\n"
          ]
        }
      ],
      "source": [
        "### YOUR CODE HERE ###\n",
        "import pandas as pd\n",
        "url = 'https://raw.githubusercontent.com/yakushinav/omo/main/data/fishing.csv'\n",
        "try:\n",
        "    fishing_data = pd.read_csv(url)\n",
        "    beach_fishers = fishing_data[fishing_data['mode'] == 'beach']\n",
        "    print(f\"Респонденты, которые выбрали рыбалку на берегу: {len(beach_fishers)}\")\n",
        "except Exception as e:\n",
        "    print(f\"Ошибка: {e}\")\n"
      ]
    },
    {
      "cell_type": "markdown",
      "metadata": {
        "id": "G2hxBini82E4"
      },
      "source": [
        "**4.** Выберите из таблицы строки, которые соответствуют респондентам, которые предпочитают рыбачить на лодке (`boat`) с доходом (`income`) ниже 3500. Сохраните результат в переменную `boat_data`."
      ]
    },
    {
      "cell_type": "code",
      "execution_count": 8,
      "metadata": {
        "id": "QAmeexnU82E4",
        "colab": {
          "base_uri": "https://localhost:8080/"
        },
        "outputId": "81108c98-5daa-4aa8-8486-83ee428bb1c1"
      },
      "outputs": [
        {
          "output_type": "stream",
          "name": "stdout",
          "text": [
            "Респонденты, которые предпочитают рыбачить на лодке с доходом ниже 3500: 152\n"
          ]
        }
      ],
      "source": [
        "### YOUR CODE HERE ###\n",
        "import pandas as pd\n",
        "url = 'https://raw.githubusercontent.com/yakushinav/omo/main/data/fishing.csv'\n",
        "try:\n",
        "    fishing_data = pd.read_csv(url)\n",
        "    boat_fishers = fishing_data[(fishing_data['mode'] == 'boat') & (fishing_data['income'] < 3500)]\n",
        "    print(f\"Респонденты, которые предпочитают рыбачить на лодке с доходом ниже 3500: {len(boat_fishers)}\")\n",
        "except Exception as e:\n",
        "    print(f\"Ошибка: {e}\")\n",
        "\n"
      ]
    },
    {
      "cell_type": "markdown",
      "metadata": {
        "id": "Hjupzfph82E5"
      },
      "source": [
        "**5.** Переименуйте столбец `catch` в `c_rate`."
      ]
    },
    {
      "cell_type": "code",
      "execution_count": 9,
      "metadata": {
        "id": "OS4rUTxV82E7",
        "colab": {
          "base_uri": "https://localhost:8080/"
        },
        "outputId": "343b3200-c468-4bba-88fe-6ed2ba041f3b"
      },
      "outputs": [
        {
          "output_type": "stream",
          "name": "stdout",
          "text": [
            "<class 'pandas.core.frame.DataFrame'>\n",
            "RangeIndex: 1182 entries, 0 to 1181\n",
            "Data columns (total 13 columns):\n",
            " #   Column      Non-Null Count  Dtype  \n",
            "---  ------      --------------  -----  \n",
            " 0   Unnamed: 0  1182 non-null   int64  \n",
            " 1   mode        1182 non-null   object \n",
            " 2   price       1182 non-null   float64\n",
            " 3   c_rate      1182 non-null   float64\n",
            " 4   pbeach      1182 non-null   float64\n",
            " 5   ppier       1182 non-null   float64\n",
            " 6   pboat       1182 non-null   float64\n",
            " 7   pcharter    1182 non-null   float64\n",
            " 8   cbeach      1182 non-null   float64\n",
            " 9   cpier       1182 non-null   float64\n",
            " 10  cboat       1182 non-null   float64\n",
            " 11  ccharter    1182 non-null   float64\n",
            " 12  income      1182 non-null   float64\n",
            "dtypes: float64(11), int64(1), object(1)\n",
            "memory usage: 120.2+ KB\n",
            "None\n"
          ]
        }
      ],
      "source": [
        "### YOUR CODE HERE ###\n",
        "import pandas as pd\n",
        "url = 'https://raw.githubusercontent.com/yakushinav/omo/main/data/fishing.csv'\n",
        "try:\n",
        "    fishing_data = pd.read_csv(url)\n",
        "    fishing_data = fishing_data.rename(columns={'catch': 'c_rate'})\n",
        "    print(fishing_data.info())\n",
        "except Exception as e:\n",
        "    print(f\"Ошибка: {e}\")\n"
      ]
    },
    {
      "cell_type": "markdown",
      "metadata": {
        "id": "7AAcH3Gy82E7"
      },
      "source": [
        "**6.** Добавьте в таблицу столбец `log_income`, содержащий натуральный логарифм доходов респондентов."
      ]
    },
    {
      "cell_type": "code",
      "execution_count": 10,
      "metadata": {
        "id": "qHvesEP082E8",
        "colab": {
          "base_uri": "https://localhost:8080/"
        },
        "outputId": "79952951-c330-423b-afa5-43e87b31a3fd"
      },
      "outputs": [
        {
          "output_type": "stream",
          "name": "stdout",
          "text": [
            "<class 'pandas.core.frame.DataFrame'>\n",
            "RangeIndex: 1182 entries, 0 to 1181\n",
            "Data columns (total 14 columns):\n",
            " #   Column      Non-Null Count  Dtype  \n",
            "---  ------      --------------  -----  \n",
            " 0   Unnamed: 0  1182 non-null   int64  \n",
            " 1   mode        1182 non-null   object \n",
            " 2   price       1182 non-null   float64\n",
            " 3   catch       1182 non-null   float64\n",
            " 4   pbeach      1182 non-null   float64\n",
            " 5   ppier       1182 non-null   float64\n",
            " 6   pboat       1182 non-null   float64\n",
            " 7   pcharter    1182 non-null   float64\n",
            " 8   cbeach      1182 non-null   float64\n",
            " 9   cpier       1182 non-null   float64\n",
            " 10  cboat       1182 non-null   float64\n",
            " 11  ccharter    1182 non-null   float64\n",
            " 12  income      1182 non-null   float64\n",
            " 13  log_income  1182 non-null   float64\n",
            "dtypes: float64(12), int64(1), object(1)\n",
            "memory usage: 129.4+ KB\n",
            "None\n"
          ]
        }
      ],
      "source": [
        "### YOUR CODE HERE ###\n",
        "import pandas as pd\n",
        "import numpy as np\n",
        "url = 'https://raw.githubusercontent.com/yakushinav/omo/main/data/fishing.csv'\n",
        "try:\n",
        "    fishing_data = pd.read_csv(url)\n",
        "    fishing_data['log_income'] = np.log(fishing_data['income'])\n",
        "    print(fishing_data.info())\n",
        "except Exception as e:\n",
        "    print(f\"Ошибка: {e}\")\n"
      ]
    },
    {
      "cell_type": "markdown",
      "metadata": {
        "id": "GjDqAUSX82E8"
      },
      "source": [
        "**7.** Сгруппируйте наблюдения в таблице по признаку тип рыбалки (`mode`) и выведите для каждого типа среднюю цену (`price`), которую респонденты готовы заплатить за рыбалку."
      ]
    },
    {
      "cell_type": "code",
      "execution_count": 11,
      "metadata": {
        "id": "kGaB0inL82E8",
        "colab": {
          "base_uri": "https://localhost:8080/"
        },
        "outputId": "867dde98-5622-449d-81f7-fd0ee0f8421d"
      },
      "outputs": [
        {
          "output_type": "stream",
          "name": "stdout",
          "text": [
            "mode\n",
            "beach      35.699493\n",
            "boat       41.606813\n",
            "charter    75.096942\n",
            "pier       30.571326\n",
            "Name: price, dtype: float64\n"
          ]
        }
      ],
      "source": [
        "### YOUR CODE HERE ###\n",
        "import pandas as pd\n",
        "url = 'https://raw.githubusercontent.com/yakushinav/omo/main/data/fishing.csv'\n",
        "try:\n",
        "    fishing_data = pd.read_csv(url)\n",
        "    group = fishing_data.groupby('mode')['price'].mean()\n",
        "    print(group)\n",
        "except Exception as e:\n",
        "    print(f\"Ошибка: {e}\")\n"
      ]
    },
    {
      "cell_type": "markdown",
      "metadata": {
        "id": "aNlqu3Kn82E9"
      },
      "source": [
        "**8.** Выведите на экран первые 8 строк таблицы. А теперь последние 8."
      ]
    },
    {
      "cell_type": "code",
      "execution_count": 12,
      "metadata": {
        "id": "ssNG9GHb82E9",
        "colab": {
          "base_uri": "https://localhost:8080/"
        },
        "outputId": "5ea88ab5-5310-4229-9efa-8b0a54d77e68"
      },
      "outputs": [
        {
          "output_type": "stream",
          "name": "stdout",
          "text": [
            "Первые строки:\n",
            "   Unnamed: 0     mode    price   catch   pbeach    ppier    pboat  pcharter  \\\n",
            "0           1  charter  182.930  0.5391  157.930  157.930  157.930   182.930   \n",
            "1           2  charter   34.534  0.4671   15.114   15.114   10.534    34.534   \n",
            "2           3     boat   24.334  0.2413  161.874  161.874   24.334    59.334   \n",
            "3           4     pier   15.134  0.0789   15.134   15.134   55.930    84.930   \n",
            "4           5     boat   41.514  0.1082  106.930  106.930   41.514    71.014   \n",
            "5           6  charter   63.934  0.3975  192.474  192.474   28.934    63.934   \n",
            "6           7    beach   51.934  0.0678   51.934   51.934  191.930   220.930   \n",
            "7           8  charter   56.714  0.0209   15.134   15.134   21.714    56.714   \n",
            "\n",
            "   cbeach   cpier   cboat  ccharter     income  \n",
            "0  0.0678  0.0503  0.2601    0.5391  7083.3317  \n",
            "1  0.1049  0.0451  0.1574    0.4671  1249.9998  \n",
            "2  0.5333  0.4522  0.2413    1.0266  3749.9999  \n",
            "3  0.0678  0.0789  0.1643    0.5391  2083.3332  \n",
            "4  0.0678  0.0503  0.1082    0.3240  4583.3320  \n",
            "5  0.5333  0.4522  0.1665    0.3975  4583.3320  \n",
            "6  0.0678  0.0789  0.1643    0.5391  8750.0010  \n",
            "7  0.0678  0.0789  0.0102    0.0209  2083.3332  \n",
            "\n",
            "Последние строки:\n",
            "      Unnamed: 0     mode    price   catch   pbeach    ppier    pboat  \\\n",
            "1174        1175     boat   86.802  0.0102   91.834   91.834   86.802   \n",
            "1175        1176  charter  149.402  0.0209  121.034  121.034  114.402   \n",
            "1176        1177    beach  121.836  0.5333  121.836  121.836  203.346   \n",
            "1177        1178     pier  150.236  0.4522  150.236  150.236  250.746   \n",
            "1178        1179    beach  235.436  0.5333  235.436  235.436  392.946   \n",
            "1179        1180     pier   65.036  0.4522   65.036   65.036  108.546   \n",
            "1180        1181    beach   36.636  0.5333   36.636   36.636   61.146   \n",
            "1181        1182     boat  235.436  0.6817  339.890  339.890  235.436   \n",
            "\n",
            "      pcharter  cbeach   cpier   cboat  ccharter      income  \n",
            "1174   121.802  0.0678  0.0789  0.0102    0.0209  4583.33200  \n",
            "1175   149.402  0.0678  0.0789  0.0102    0.0209  6250.00130  \n",
            "1176   238.346  0.5333  0.4522  0.2413    1.0266  2916.66660  \n",
            "1177   285.746  0.5333  0.4522  0.2413    1.0266  3749.99990  \n",
            "1178   427.946  0.5333  0.4522  0.2413    1.0266  6250.00130  \n",
            "1179   143.546  0.5333  0.4522  0.2413    1.0266  1249.99980  \n",
            "1180    96.146  0.5333  0.4522  0.1665    0.3975   416.66668  \n",
            "1181   260.436  0.2537  0.1498  0.6817    2.3014  6250.00130  \n"
          ]
        }
      ],
      "source": [
        "### YOUR CODE HERE ###\n",
        "import pandas as pd\n",
        "url = 'https://raw.githubusercontent.com/yakushinav/omo/main/data/fishing.csv'\n",
        "try:\n",
        "    fishing_data = pd.read_csv(url)\n",
        "    print(\"Первые строки:\")\n",
        "    print(fishing_data.head(8))\n",
        "    print(\"\\nПоследние строки:\")\n",
        "    print(fishing_data.tail(8))\n",
        "except Exception as e:\n",
        "    print(f\"Ошибка: {e}\")\n"
      ]
    },
    {
      "cell_type": "markdown",
      "metadata": {
        "id": "J7lVYGmS82E9"
      },
      "source": [
        "**9.** Сохраните изменённый датафрейм в csv-файл."
      ]
    },
    {
      "cell_type": "code",
      "execution_count": 13,
      "metadata": {
        "id": "_HQz2KM782E9",
        "colab": {
          "base_uri": "https://localhost:8080/"
        },
        "outputId": "aed88e2b-6c4c-4808-dd0a-8378e62f25e6"
      },
      "outputs": [
        {
          "output_type": "stream",
          "name": "stdout",
          "text": [
            "Файл успешно сохранен: fishing_data_done.csv\n"
          ]
        }
      ],
      "source": [
        "### YOUR CODE HERE ###\n",
        "import pandas as pd\n",
        "import numpy as np\n",
        "url = 'https://raw.githubusercontent.com/yakushinav/omo/main/data/fishing.csv'\n",
        "try:\n",
        "    fishing_data = pd.read_csv(url)\n",
        "    fishing_data = fishing_data.rename(columns={'catch': 'c_rate'})\n",
        "    fishing_data['log_income'] = np.log(fishing_data['income'])\n",
        "    output_file = 'fishing_data_done.csv'\n",
        "    fishing_data.to_csv(output_file, index=False)\n",
        "    print(f\"Файл успешно сохранен: {output_file}\")\n",
        "except Exception as e:\n",
        "    print(f\"Ошибка: {e}\")\n"
      ]
    },
    {
      "cell_type": "code",
      "source": [],
      "metadata": {
        "id": "hKpDCOD1LC8v"
      },
      "execution_count": null,
      "outputs": []
    }
  ],
  "metadata": {
    "kernelspec": {
      "display_name": "Python 3 (ipykernel)",
      "language": "python",
      "name": "python3"
    },
    "language_info": {
      "codemirror_mode": {
        "name": "ipython",
        "version": 3
      },
      "file_extension": ".py",
      "mimetype": "text/x-python",
      "name": "python",
      "nbconvert_exporter": "python",
      "pygments_lexer": "ipython3",
      "version": "3.9.13"
    },
    "toc": {
      "colors": {
        "hover_highlight": "#DAA520",
        "running_highlight": "#FF0000",
        "selected_highlight": "#FFD700"
      },
      "moveMenuLeft": true,
      "nav_menu": {
        "height": "12px",
        "width": "252px"
      },
      "navigate_menu": true,
      "number_sections": true,
      "sideBar": true,
      "threshold": 4,
      "toc_cell": false,
      "toc_position": {
        "height": "550px",
        "left": "0px",
        "right": "1068px",
        "top": "106px",
        "width": "212px"
      },
      "toc_section_display": "block",
      "toc_window_display": false
    },
    "colab": {
      "provenance": []
    }
  },
  "nbformat": 4,
  "nbformat_minor": 0
}