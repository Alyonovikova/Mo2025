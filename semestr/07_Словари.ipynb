{
  "cells": [
    {
      "cell_type": "markdown",
      "id": "03e811ea",
      "metadata": {
        "id": "03e811ea"
      },
      "source": [
        "# 07 Словарь (Dictionaries)\n",
        "\n",
        "Если раньше мы говорили о последовательностях (*sequences*) в Python, то теперь давайте поговорим о маппингах (*mappings*) в Python. Если Вы знакомы с другими языками программирования, то словари можно представить себе как хэш-таблицы.\n",
        "\n",
        "Эта лекция служит введением в словари, и состоит из следующих тем:\n",
        "\n",
        "    1) Создание словаря\n",
        "    2) Доступ к объектам в словаре\n",
        "    3) Вложенные словари\n",
        "    4) Основные методы для словарей\n",
        "\n",
        "Что такое маппинги? Маппинги - это набор объектов, которые можно получить по ключу (*key*). Это отличается от последовательностей, где объекты хранятся в определенном порядке относительно друг друга. Это важное отличие, потому что маппинги не имеют порядка элементов. В маппингах элементы определены с помощью ключей.\n",
        "\n",
        "Словарь в Python состоит из ключа и связанного с ним значения. Значение может быть практически любым объектом Python.\n",
        "\n",
        "\n",
        "## Создание словаря\n",
        "Давайте посмотрим, как можно создавать словари - так мы лучше поймём, как они работают!"
      ]
    },
    {
      "cell_type": "code",
      "execution_count": null,
      "id": "bb41161f",
      "metadata": {
        "collapsed": true,
        "id": "bb41161f"
      },
      "outputs": [],
      "source": [
        "# Словари создаются с помощью {} и : , чтобы указать ключи и значения\n",
        "my_dict = {'key1':'value1','key2':'value2'}"
      ]
    },
    {
      "cell_type": "code",
      "execution_count": null,
      "id": "83c411da",
      "metadata": {
        "id": "83c411da",
        "outputId": "82848b5f-0b2e-43a4-b167-f85177a27139"
      },
      "outputs": [
        {
          "data": {
            "text/plain": [
              "'value2'"
            ]
          },
          "execution_count": 2,
          "metadata": {},
          "output_type": "execute_result"
        }
      ],
      "source": [
        "# Получаем значение по его ключу\n",
        "my_dict['key2']"
      ]
    },
    {
      "cell_type": "markdown",
      "id": "2fba962f",
      "metadata": {
        "id": "2fba962f"
      },
      "source": [
        "Словари очень гибки в отношении того, какие типы данных они могут хранить. Например:"
      ]
    },
    {
      "cell_type": "code",
      "execution_count": null,
      "id": "b04d925e",
      "metadata": {
        "collapsed": true,
        "id": "b04d925e"
      },
      "outputs": [],
      "source": [
        "my_dict = {'key1':123,'key2':[12,23,33],'key3':['item0','item1','item2']}"
      ]
    },
    {
      "cell_type": "code",
      "execution_count": null,
      "id": "e6dca033",
      "metadata": {
        "id": "e6dca033",
        "outputId": "0e5b87ec-baa9-4c27-c0d1-facb0c06b343"
      },
      "outputs": [
        {
          "data": {
            "text/plain": [
              "['item0', 'item1', 'item2']"
            ]
          },
          "execution_count": 4,
          "metadata": {},
          "output_type": "execute_result"
        }
      ],
      "source": [
        "# Возьмём из словаря элементы items\n",
        "my_dict['key3']"
      ]
    },
    {
      "cell_type": "code",
      "execution_count": null,
      "id": "e7af6103",
      "metadata": {
        "id": "e7af6103",
        "outputId": "49b499e4-ab8e-419b-a1a0-68e02ae6418f"
      },
      "outputs": [
        {
          "data": {
            "text/plain": [
              "'item0'"
            ]
          },
          "execution_count": 5,
          "metadata": {},
          "output_type": "execute_result"
        }
      ],
      "source": [
        "# Здесь можно использовать индекс для этого значения\n",
        "my_dict['key3'][0]"
      ]
    },
    {
      "cell_type": "code",
      "execution_count": null,
      "id": "a600ae1a",
      "metadata": {
        "id": "a600ae1a",
        "outputId": "a4b77359-8a07-4fb0-98ea-9db1fdac4bd0"
      },
      "outputs": [
        {
          "data": {
            "text/plain": [
              "'ITEM0'"
            ]
          },
          "execution_count": 6,
          "metadata": {},
          "output_type": "execute_result"
        }
      ],
      "source": [
        "# И далее мы даже можем использовать методы для этого значения\n",
        "my_dict['key3'][0].upper()"
      ]
    },
    {
      "cell_type": "markdown",
      "id": "ef58627b",
      "metadata": {
        "id": "ef58627b"
      },
      "source": [
        "Также мы можем менять значения ключа. Например:"
      ]
    },
    {
      "cell_type": "code",
      "execution_count": null,
      "id": "956e9545",
      "metadata": {
        "id": "956e9545",
        "outputId": "c1a335ea-b106-4599-8dea-cf8723412822"
      },
      "outputs": [
        {
          "data": {
            "text/plain": [
              "123"
            ]
          },
          "execution_count": 7,
          "metadata": {},
          "output_type": "execute_result"
        }
      ],
      "source": [
        "my_dict['key1']"
      ]
    },
    {
      "cell_type": "code",
      "execution_count": null,
      "id": "55d243f5",
      "metadata": {
        "collapsed": true,
        "id": "55d243f5"
      },
      "outputs": [],
      "source": [
        "# Вычитаем 123 из значения\n",
        "my_dict['key1'] = my_dict['key1'] - 123"
      ]
    },
    {
      "cell_type": "code",
      "execution_count": null,
      "id": "638d05f0",
      "metadata": {
        "id": "638d05f0",
        "outputId": "aef70532-683a-4e09-e769-4bd31e67921c"
      },
      "outputs": [
        {
          "data": {
            "text/plain": [
              "0"
            ]
          },
          "execution_count": 9,
          "metadata": {},
          "output_type": "execute_result"
        }
      ],
      "source": [
        "# Провека\n",
        "my_dict['key1']"
      ]
    },
    {
      "cell_type": "markdown",
      "id": "2c1135c9",
      "metadata": {
        "id": "2c1135c9"
      },
      "source": [
        "Небольшое замечание: Python содержит встроенные методы для сложения (прибавления), вычитания, умножения и деления. В примере выше можно было использовать += или -=. Например:"
      ]
    },
    {
      "cell_type": "code",
      "execution_count": null,
      "id": "4e219c58",
      "metadata": {
        "id": "4e219c58",
        "outputId": "72db1360-228e-48cb-f0df-b1279aea75f7"
      },
      "outputs": [
        {
          "data": {
            "text/plain": [
              "-123"
            ]
          },
          "execution_count": 10,
          "metadata": {},
          "output_type": "execute_result"
        }
      ],
      "source": [
        "# Присвоить объект равным его текущему значению минус 123\n",
        "my_dict['key1'] -= 123\n",
        "my_dict['key1']"
      ]
    },
    {
      "cell_type": "markdown",
      "id": "238ecec7",
      "metadata": {
        "id": "238ecec7"
      },
      "source": [
        "Мы также можем создавать ключи, присваивая значения. Например, мы можем создать пустой словарь, и затем постепенно добавлять в него элементы:"
      ]
    },
    {
      "cell_type": "code",
      "execution_count": null,
      "id": "0632b469",
      "metadata": {
        "collapsed": true,
        "id": "0632b469"
      },
      "outputs": [],
      "source": [
        "# Создаем новый словарь\n",
        "d = {}"
      ]
    },
    {
      "cell_type": "code",
      "execution_count": null,
      "id": "66b2dc37",
      "metadata": {
        "collapsed": true,
        "id": "66b2dc37"
      },
      "outputs": [],
      "source": [
        "# Создаем новый ключ, присваивая ему значение\n",
        "d['animal'] = 'Dog'"
      ]
    },
    {
      "cell_type": "code",
      "execution_count": null,
      "id": "968b7cab",
      "metadata": {
        "collapsed": true,
        "id": "968b7cab"
      },
      "outputs": [],
      "source": [
        "# Мы можем сделать это для любого объекта\n",
        "d['answer'] = 42"
      ]
    },
    {
      "cell_type": "code",
      "execution_count": null,
      "id": "0c0c636a",
      "metadata": {
        "id": "0c0c636a",
        "outputId": "50f41dae-1caa-4487-82e5-ead4957e8714"
      },
      "outputs": [
        {
          "data": {
            "text/plain": [
              "{'animal': 'Dog', 'answer': 42}"
            ]
          },
          "execution_count": 14,
          "metadata": {},
          "output_type": "execute_result"
        }
      ],
      "source": [
        "# Проверка\n",
        "d"
      ]
    },
    {
      "cell_type": "markdown",
      "id": "899e1e49",
      "metadata": {
        "id": "899e1e49"
      },
      "source": [
        "## Вложенные словари\n",
        "\n",
        "Надеюсь, что Вы уже начинаете видеть, насколько Python мощный и гибкий в плане вложенности объектов и запуска методов. Давайте рассмотрим словарь внутри словаря:"
      ]
    },
    {
      "cell_type": "code",
      "execution_count": null,
      "id": "1c06c237",
      "metadata": {
        "collapsed": true,
        "id": "1c06c237"
      },
      "outputs": [],
      "source": [
        "# Словарь внутри словаря внутри словаря\n",
        "d = {'key1':{'nestkey':{'subnestkey':'value'}}}"
      ]
    },
    {
      "cell_type": "markdown",
      "id": "6173a0ff",
      "metadata": {
        "id": "6173a0ff"
      },
      "source": [
        "Вау! Вот это вложенность словарей! Давайте посмотрим, как добраться до значения 'value':"
      ]
    },
    {
      "cell_type": "code",
      "execution_count": null,
      "id": "55f9c854",
      "metadata": {
        "id": "55f9c854",
        "outputId": "0b033203-9aa3-40b1-d262-be674eb16dac"
      },
      "outputs": [
        {
          "data": {
            "text/plain": [
              "'value'"
            ]
          },
          "execution_count": 16,
          "metadata": {},
          "output_type": "execute_result"
        }
      ],
      "source": [
        "# Последовательно указываем ключи\n",
        "d['key1']['nestkey']['subnestkey']"
      ]
    },
    {
      "cell_type": "markdown",
      "id": "32ae4843",
      "metadata": {
        "id": "32ae4843"
      },
      "source": [
        "## Некоторые методы для словарей\n",
        "\n",
        "Для словарей можно вызывать различные методы. Вот некоторые из них:"
      ]
    },
    {
      "cell_type": "code",
      "execution_count": null,
      "id": "63e0d911",
      "metadata": {
        "collapsed": true,
        "id": "63e0d911"
      },
      "outputs": [],
      "source": [
        "# Создаем обычный словарь\n",
        "d = {'key1':1,'key2':2,'key3':3}"
      ]
    },
    {
      "cell_type": "code",
      "execution_count": null,
      "id": "fa98d666",
      "metadata": {
        "id": "fa98d666",
        "outputId": "3d198cd4-693b-48ef-eb5a-020d83642743"
      },
      "outputs": [
        {
          "data": {
            "text/plain": [
              "dict_keys(['key1', 'key2', 'key3'])"
            ]
          },
          "execution_count": 18,
          "metadata": {},
          "output_type": "execute_result"
        }
      ],
      "source": [
        "# Метод, который возвращает список всех ключей\n",
        "d.keys()"
      ]
    },
    {
      "cell_type": "code",
      "execution_count": null,
      "id": "762ebc8d",
      "metadata": {
        "id": "762ebc8d",
        "outputId": "925b34be-fd43-4792-835f-e750c002dad6"
      },
      "outputs": [
        {
          "data": {
            "text/plain": [
              "dict_values([1, 2, 3])"
            ]
          },
          "execution_count": 19,
          "metadata": {},
          "output_type": "execute_result"
        }
      ],
      "source": [
        "# Метод, возвращающий все значения\n",
        "d.values()"
      ]
    },
    {
      "cell_type": "code",
      "execution_count": null,
      "id": "8f3f1311",
      "metadata": {
        "scrolled": true,
        "id": "8f3f1311",
        "outputId": "bb50ebbc-4373-418e-e259-bd9cb320b2eb"
      },
      "outputs": [
        {
          "data": {
            "text/plain": [
              "dict_items([('key1', 1), ('key2', 2), ('key3', 3)])"
            ]
          },
          "execution_count": 20,
          "metadata": {},
          "output_type": "execute_result"
        }
      ],
      "source": [
        "# Метод, возвращающий кортежи (tuples) для всех элементов  (мы рассмотрим кортежи tuples чуть позже)\n",
        "d.items()"
      ]
    },
    {
      "cell_type": "markdown",
      "id": "06421a3a",
      "metadata": {
        "id": "06421a3a"
      },
      "source": [
        "Теперь Вы знаете, как создавать словари. По ним ещё есть что сказать, и мы вернемся к словарям позднее в этом курсе. После этой лекции главное, что Вы должны уметь, это создавать словари и извлекать значения из них."
      ]
    },
    {
      "cell_type": "markdown",
      "id": "9816ea42",
      "metadata": {
        "id": "9816ea42"
      },
      "source": [
        "## Словари (Dictionaries)"
      ]
    },
    {
      "cell_type": "markdown",
      "id": "63689704",
      "metadata": {
        "id": "63689704"
      },
      "source": [
        "Используя ключи и индексирование, прочитайте 'hello' из следующих словарей:"
      ]
    },
    {
      "cell_type": "code",
      "execution_count": 1,
      "id": "2b1a4e5c",
      "metadata": {
        "collapsed": true,
        "colab": {
          "base_uri": "https://localhost:8080/"
        },
        "id": "2b1a4e5c",
        "outputId": "a553a0cc-f0d9-476c-87eb-7758e5c24b45"
      },
      "outputs": [
        {
          "output_type": "stream",
          "name": "stdout",
          "text": [
            "hello\n"
          ]
        }
      ],
      "source": [
        "d = {'simple_key':'hello'}\n",
        "# прочитайте 'hello'\n",
        "value = d['simple_key']\n",
        "print (value)"
      ]
    },
    {
      "cell_type": "code",
      "execution_count": 2,
      "id": "d9dd6531",
      "metadata": {
        "collapsed": true,
        "colab": {
          "base_uri": "https://localhost:8080/"
        },
        "id": "d9dd6531",
        "outputId": "781c6414-2af5-467c-f055-f82104eccf80"
      },
      "outputs": [
        {
          "output_type": "stream",
          "name": "stdout",
          "text": [
            "hello\n"
          ]
        }
      ],
      "source": [
        "d = {'k1':{'k2':'hello'}}\n",
        "# прочитайте 'hello'\n",
        "value = d['k1']['k2']\n",
        "print (value)"
      ]
    },
    {
      "cell_type": "code",
      "execution_count": 4,
      "id": "f670b274",
      "metadata": {
        "collapsed": true,
        "colab": {
          "base_uri": "https://localhost:8080/"
        },
        "id": "f670b274",
        "outputId": "56890859-02e4-4bd4-82a3-aabcf3067bc0"
      },
      "outputs": [
        {
          "output_type": "stream",
          "name": "stdout",
          "text": [
            "hello\n"
          ]
        }
      ],
      "source": [
        "# Здесь немного сложнее\n",
        "d = {'k1':[{'nest_key':['this is deep',['hello']]}]}\n",
        "# прочитайте hello\n",
        "value = d['k1'][0]['nest_key'][1][0]\n",
        "print (value)"
      ]
    },
    {
      "cell_type": "code",
      "execution_count": 5,
      "id": "84521255",
      "metadata": {
        "collapsed": true,
        "colab": {
          "base_uri": "https://localhost:8080/"
        },
        "id": "84521255",
        "outputId": "e30a814f-2097-464c-fd0b-209485d62472"
      },
      "outputs": [
        {
          "output_type": "stream",
          "name": "stdout",
          "text": [
            "hello\n"
          ]
        }
      ],
      "source": [
        "# Это будет сложно и нудно!\n",
        "d = {'k1':[1,2,{'k2':['this is tricky',{'tough':[1,2,['hello']]}]}]}\n",
        "# прочитайте hello\n",
        "value = d['k1'][2]['k2'][1]['tough'][2][0]\n",
        "print (value)"
      ]
    },
    {
      "cell_type": "markdown",
      "id": "36299e7a",
      "metadata": {
        "id": "36299e7a"
      },
      "source": [
        " Можно ли отсортировать словарь? Почему (или почему нет)? Ответ: напрямую нет, поскольку они оптимизируются для быстрого поиска значений по ключу и индексированию. <br><br>"
      ]
    }
  ],
  "metadata": {
    "kernelspec": {
      "display_name": "Python 3 (ipykernel)",
      "language": "python",
      "name": "python3"
    },
    "language_info": {
      "codemirror_mode": {
        "name": "ipython",
        "version": 3
      },
      "file_extension": ".py",
      "mimetype": "text/x-python",
      "name": "python",
      "nbconvert_exporter": "python",
      "pygments_lexer": "ipython3",
      "version": "3.9.13"
    },
    "colab": {
      "provenance": []
    }
  },
  "nbformat": 4,
  "nbformat_minor": 5
}